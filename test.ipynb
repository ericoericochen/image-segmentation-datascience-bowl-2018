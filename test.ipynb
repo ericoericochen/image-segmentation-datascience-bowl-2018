{
 "cells": [
  {
   "cell_type": "code",
   "execution_count": 16,
   "id": "852474ac-a7df-4414-beb2-01b50a3c9eb9",
   "metadata": {},
   "outputs": [
    {
     "name": "stdout",
     "output_type": "stream",
     "text": [
      "The autoreload extension is already loaded. To reload it, use:\n",
      "  %reload_ext autoreload\n"
     ]
    }
   ],
   "source": [
    "%load_ext autoreload\n",
    "%autoreload 2"
   ]
  },
  {
   "cell_type": "code",
   "execution_count": 17,
   "id": "8998f05c-fdc7-49cf-9e54-ac9585bd7a61",
   "metadata": {
    "tags": []
   },
   "outputs": [],
   "source": [
    "import torch\n",
    "from models.vcn_32 import VCN32"
   ]
  },
  {
   "cell_type": "code",
   "execution_count": 18,
   "id": "2e8463cf-2e14-4cbb-b74b-ed4b770c4907",
   "metadata": {
    "tags": []
   },
   "outputs": [],
   "source": [
    "vcn32 = VCN32()"
   ]
  },
  {
   "cell_type": "code",
   "execution_count": 19,
   "id": "b9a73282-5375-407b-ad4e-688e8c782795",
   "metadata": {
    "tags": []
   },
   "outputs": [
    {
     "data": {
      "text/plain": [
       "VCN32(\n",
       "  (down1): DownSample(\n",
       "    (conv_pool): Sequential(\n",
       "      (0): Conv2d(3, 64, kernel_size=(3, 3), stride=(1, 1), padding=(1, 1))\n",
       "      (1): ReLU()\n",
       "      (2): MaxPool2d(kernel_size=2, stride=2, padding=0, dilation=1, ceil_mode=False)\n",
       "    )\n",
       "  )\n",
       "  (down2): DownSample(\n",
       "    (conv_pool): Sequential(\n",
       "      (0): Conv2d(64, 128, kernel_size=(3, 3), stride=(1, 1), padding=(1, 1))\n",
       "      (1): ReLU()\n",
       "      (2): MaxPool2d(kernel_size=2, stride=2, padding=0, dilation=1, ceil_mode=False)\n",
       "    )\n",
       "  )\n",
       "  (down3): DownSample(\n",
       "    (conv_pool): Sequential(\n",
       "      (0): Conv2d(128, 256, kernel_size=(3, 3), stride=(1, 1), padding=(1, 1))\n",
       "      (1): ReLU()\n",
       "      (2): Conv2d(256, 256, kernel_size=(3, 3), stride=(1, 1), padding=(1, 1))\n",
       "      (3): ReLU()\n",
       "      (4): MaxPool2d(kernel_size=2, stride=2, padding=0, dilation=1, ceil_mode=False)\n",
       "    )\n",
       "  )\n",
       "  (down4): DownSample(\n",
       "    (conv_pool): Sequential(\n",
       "      (0): Conv2d(256, 512, kernel_size=(3, 3), stride=(1, 1), padding=(1, 1))\n",
       "      (1): ReLU()\n",
       "      (2): Conv2d(512, 512, kernel_size=(3, 3), stride=(1, 1), padding=(1, 1))\n",
       "      (3): ReLU()\n",
       "      (4): MaxPool2d(kernel_size=2, stride=2, padding=0, dilation=1, ceil_mode=False)\n",
       "    )\n",
       "  )\n",
       "  (down5): DownSample(\n",
       "    (conv_pool): Sequential(\n",
       "      (0): Conv2d(512, 512, kernel_size=(3, 3), stride=(1, 1), padding=(1, 1))\n",
       "      (1): ReLU()\n",
       "      (2): Conv2d(512, 512, kernel_size=(3, 3), stride=(1, 1), padding=(1, 1))\n",
       "      (3): ReLU()\n",
       "      (4): MaxPool2d(kernel_size=2, stride=2, padding=0, dilation=1, ceil_mode=False)\n",
       "    )\n",
       "  )\n",
       "  (prediction): Sequential(\n",
       "    (0): Conv2d(512, 4096, kernel_size=(3, 3), stride=(1, 1), padding=(1, 1))\n",
       "    (1): ReLU()\n",
       "    (2): Dropout2d(p=0.5, inplace=False)\n",
       "    (3): Conv2d(4096, 4096, kernel_size=(3, 3), stride=(1, 1), padding=(1, 1))\n",
       "    (4): ReLU()\n",
       "    (5): Dropout2d(p=0.5, inplace=False)\n",
       "    (6): Conv2d(4096, 2, kernel_size=(1, 1), stride=(1, 1))\n",
       "  )\n",
       "  (up32): UpSample(\n",
       "    (conv_tranpose): ConvTranspose2d(2, 2, kernel_size=(64, 64), stride=(32, 32), padding=(16, 16))\n",
       "  )\n",
       ")"
      ]
     },
     "execution_count": 19,
     "metadata": {},
     "output_type": "execute_result"
    }
   ],
   "source": [
    "vcn32"
   ]
  },
  {
   "cell_type": "code",
   "execution_count": 21,
   "id": "a9193dc3-1086-40e6-ba50-d83765c1cfd4",
   "metadata": {
    "tags": []
   },
   "outputs": [
    {
     "name": "stdout",
     "output_type": "stream",
     "text": [
      "torch.Size([223, 223])\n"
     ]
    },
    {
     "data": {
      "text/plain": [
       "torch.Size([1, 2, 192, 192])"
      ]
     },
     "execution_count": 21,
     "metadata": {},
     "output_type": "execute_result"
    }
   ],
   "source": [
    "inp = torch.rand((1, 3, 224, 224))\n",
    "inp = torch.rand((1, 3, 223, 223))\n",
    "out = vcn32(inp)\n",
    "out.shape"
   ]
  },
  {
   "cell_type": "code",
   "execution_count": 22,
   "id": "d252386a-50b8-42cf-8b51-f9a494f3c15c",
   "metadata": {},
   "outputs": [
    {
     "data": {
      "text/plain": [
       "tensor([[[[-0.0087, -0.0087, -0.0085,  ..., -0.0086, -0.0085, -0.0086],\n",
       "          [-0.0085, -0.0086, -0.0085,  ..., -0.0087, -0.0085, -0.0086],\n",
       "          [-0.0086, -0.0085, -0.0087,  ..., -0.0085, -0.0087, -0.0087],\n",
       "          ...,\n",
       "          [-0.0084, -0.0087, -0.0086,  ..., -0.0084, -0.0087, -0.0086],\n",
       "          [-0.0084, -0.0085, -0.0087,  ..., -0.0086, -0.0087, -0.0086],\n",
       "          [-0.0085, -0.0084, -0.0087,  ..., -0.0085, -0.0086, -0.0087]],\n",
       "\n",
       "         [[-0.0086, -0.0085, -0.0087,  ..., -0.0085, -0.0087, -0.0086],\n",
       "          [-0.0085, -0.0085, -0.0086,  ..., -0.0085, -0.0085, -0.0085],\n",
       "          [-0.0087, -0.0084, -0.0087,  ..., -0.0086, -0.0088, -0.0087],\n",
       "          ...,\n",
       "          [-0.0086, -0.0084, -0.0085,  ..., -0.0087, -0.0087, -0.0085],\n",
       "          [-0.0087, -0.0087, -0.0086,  ..., -0.0086, -0.0085, -0.0085],\n",
       "          [-0.0087, -0.0085, -0.0085,  ..., -0.0086, -0.0085, -0.0087]]]],\n",
       "       grad_fn=<ConvolutionBackward0>)"
      ]
     },
     "execution_count": 22,
     "metadata": {},
     "output_type": "execute_result"
    }
   ],
   "source": [
    "out"
   ]
  },
  {
   "cell_type": "code",
   "execution_count": null,
   "id": "fc781b1a-3068-4cb7-8f7f-427da69741d3",
   "metadata": {},
   "outputs": [],
   "source": []
  }
 ],
 "metadata": {
  "kernelspec": {
   "display_name": "Python 3 (ipykernel)",
   "language": "python",
   "name": "python3"
  },
  "language_info": {
   "codemirror_mode": {
    "name": "ipython",
    "version": 3
   },
   "file_extension": ".py",
   "mimetype": "text/x-python",
   "name": "python",
   "nbconvert_exporter": "python",
   "pygments_lexer": "ipython3",
   "version": "3.9.16"
  }
 },
 "nbformat": 4,
 "nbformat_minor": 5
}
