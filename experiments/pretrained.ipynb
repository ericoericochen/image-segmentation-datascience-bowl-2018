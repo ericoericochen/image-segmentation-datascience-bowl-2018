{
 "cells": [
  {
   "cell_type": "code",
   "execution_count": 54,
   "id": "9f6141f1-af58-45a1-99cf-1dfeb2a50eb7",
   "metadata": {
    "tags": []
   },
   "outputs": [
    {
     "name": "stdout",
     "output_type": "stream",
     "text": [
      "The autoreload extension is already loaded. To reload it, use:\n",
      "  %reload_ext autoreload\n"
     ]
    }
   ],
   "source": [
    "%load_ext autoreload\n",
    "%autoreload 2"
   ]
  },
  {
   "cell_type": "code",
   "execution_count": 55,
   "id": "9789c9f0-f551-4968-addc-16fc4b4ab993",
   "metadata": {
    "tags": []
   },
   "outputs": [],
   "source": [
    "from models import VCN32, VCN16, VCN8"
   ]
  },
  {
   "cell_type": "markdown",
   "id": "8b6eeb88-966b-4efd-b71f-71b4c11f8db1",
   "metadata": {
    "tags": []
   },
   "source": [
    "# Transfer Learning\n",
    "We will run experiments on VCN32, VCN16, and VCN8 to show the effect of transfer learning on training loss convergence. Transfer learning is taking a pretrained model and using it on a similar but different problem. In our case, the encoder backbone of the Fully Convolutional Networks (VCN) uses the convolutional layers of the VGG 11 architecture. \n",
    "\n",
    "Transfer learning helps speed up the training time of a model because it has already learned relevant features that may be applied to the current problem we're solving. If you know how to draw a cat, chances are you won't have difficulty learning how to draw a dog (hence the learnings from drawing a cat is \"transferable\"). To see the effects of transfer learning on training speed, we will train each FCN for 50 epochs on 3 configurations: \n",
    "\n",
    "1. <b>Encoder backbone without pretrained VGG 11</b>\n",
    "2. <b>Encoder backbone = pretrained VGG 11</b>\n",
    "3. <b>Encoder backbone = pretrained VGG 11 with weights frozen</b>\n",
    "\n",
    "We will produce training loss curves and compare the results."
   ]
  },
  {
   "cell_type": "markdown",
   "id": "30f18e65-2495-416c-b05b-62b0e53f2fb4",
   "metadata": {
    "tags": []
   },
   "source": [
    "## VCN Models"
   ]
  },
  {
   "cell_type": "code",
   "execution_count": 120,
   "id": "c628eb65-7ff4-494f-90f0-f3c00575ef62",
   "metadata": {
    "tags": []
   },
   "outputs": [],
   "source": [
    "vcn32s = [(\"not pretrained\", VCN32(pretrained=False)), \n",
    "          (\"pretrained\", VCN32(pretrained=True)), \n",
    "          (\"pretrained [frozen]\", VCN32(pretrained=True, freeze_pretrained=True))]\n",
    "\n",
    "vcn16s = [(\"not pretrained\", VCN16(pretrained=False)), \n",
    "          (\"pretrained\", VCN16(pretrained=True)), \n",
    "          (\"pretrained [frozen]\", VCN16(pretrained=True, freeze_pretrained=True))]\n",
    "\n",
    "vcn8s = [(\"not pretrained\", VCN8(pretrained=False)), \n",
    "          (\"pretrained\", VCN8(pretrained=True)), \n",
    "          (\"pretrained [frozen]\", VCN8(pretrained=True, freeze_pretrained=True))]"
   ]
  },
  {
   "cell_type": "markdown",
   "id": "334553cd-45c5-42e8-af9b-7e9c645c1e32",
   "metadata": {},
   "source": [
    "# Dataset\n",
    "We're going to overfit one data point"
   ]
  },
  {
   "cell_type": "code",
   "execution_count": 158,
   "id": "31ece5f2-5063-415e-92ef-da0c6fd85609",
   "metadata": {
    "tags": []
   },
   "outputs": [],
   "source": [
    "from dataset import SegmentationDataset\n",
    "from torchvision.transforms import ToTensor, Normalize, Compose, Resize\n",
    "\n",
    "transforms = Compose([\n",
    "    ToTensor(),\n",
    "    Normalize(mean=[0.485, 0.456, 0.406], std=[0.229, 0.224, 0.225]),\n",
    "    Resize((224, 224))\n",
    "])\n",
    "\n",
    "target_transforms = Compose([\n",
    "    Resize((224, 224))\n",
    "])\n",
    "\n",
    "dataset = SegmentationDataset(root=\"data/stage1_train\", transform=transforms, target_transform=target_transforms)"
   ]
  },
  {
   "cell_type": "code",
   "execution_count": 159,
   "id": "a4e881e8-e5fd-45b2-8106-c59562f6e148",
   "metadata": {
    "tags": []
   },
   "outputs": [
    {
     "name": "stdout",
     "output_type": "stream",
     "text": [
      "torch.Size([3, 224, 224])\n"
     ]
    },
    {
     "data": {
      "text/plain": [
       "tensor(0.7506)"
      ]
     },
     "execution_count": 159,
     "metadata": {},
     "output_type": "execute_result"
    }
   ],
   "source": [
    "print(dataset[3][0].shape)\n",
    "print(dataset[9][])\n",
    "\n",
    "(dataset[9][0]).sum() / (3 * 224 * 224)"
   ]
  },
  {
   "cell_type": "code",
   "execution_count": 113,
   "id": "ce4b6c28-31d5-43ef-81d2-78b88306f1cc",
   "metadata": {
    "tags": []
   },
   "outputs": [
    {
     "data": {
      "image/png": "[encoded data removed]",
      "text/plain": [
       "<PIL.Image.Image image mode=L size=224x224>"
      ]
     },
     "execution_count": 113,
     "metadata": {},
     "output_type": "execute_result"
    }
   ],
   "source": [
    "dataset[0][1]"
   ]
  },
  {
   "cell_type": "code",
   "execution_count": null,
   "id": "acd4cba6-b0e0-4ec2-8e51-280cf2f09d59",
   "metadata": {},
   "outputs": [],
   "source": []
  }
 ],
 "metadata": {
  "kernelspec": {
   "display_name": "Python 3 (ipykernel)",
   "language": "python",
   "name": "python3"
  },
  "language_info": {
   "codemirror_mode": {
    "name": "ipython",
    "version": 3
   },
   "file_extension": ".py",
   "mimetype": "text/x-python",
   "name": "python",
   "nbconvert_exporter": "python",
   "pygments_lexer": "ipython3",
   "version": "3.9.16"
  }
 },
 "nbformat": 4,
 "nbformat_minor": 5
}
