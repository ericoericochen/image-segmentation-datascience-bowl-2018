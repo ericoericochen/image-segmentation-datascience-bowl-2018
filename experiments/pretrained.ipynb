{
 "cells": [
  {
   "cell_type": "code",
   "execution_count": 11,
   "id": "9f6141f1-af58-45a1-99cf-1dfeb2a50eb7",
   "metadata": {
    "tags": []
   },
   "outputs": [
    {
     "name": "stdout",
     "output_type": "stream",
     "text": [
      "The autoreload extension is already loaded. To reload it, use:\n",
      "  %reload_ext autoreload\n"
     ]
    }
   ],
   "source": [
    "%load_ext autoreload\n",
    "%autoreload 2"
   ]
  },
  {
   "cell_type": "code",
   "execution_count": 15,
   "id": "9789c9f0-f551-4968-addc-16fc4b4ab993",
   "metadata": {
    "tags": []
   },
   "outputs": [],
   "source": [
    "from models import VCN32, VCN16, VCN8"
   ]
  },
  {
   "cell_type": "markdown",
   "id": "8b6eeb88-966b-4efd-b71f-71b4c11f8db1",
   "metadata": {
    "tags": []
   },
   "source": [
    "# Transfer Learning\n",
    "We will run experiments on VCN32, VCN16, and VCN8 to show the effect of transfer learning on training loss convergence. Transfer learning is taking a pretrained model and using it on a similar but different problem. In our case, the encoder backbone of the Fully Convolutional Networks (VCN) uses the convolutional layers of the VGG 11 architecture. \n",
    "\n",
    "Transfer learning helps speed up the training time of a model because it has already learned relevant features that may be applied to the current problem we're solving. If you know how to draw a cat, chances are you won't have difficulty learning how to draw a dog (hence the learnings from drawing a cat is \"transferable\"). To see the effects of transfer learning on training speed, we will train each FCN for 50 epochs on 3 configurations: \n",
    "\n",
    "1. <b>Encoder backbone without pretrained VGG 11</b>\n",
    "2. <b>Encoder backbone = pretrained VGG 11</b>\n",
    "3. <b>Encoder backbone = pretrained VGG 11 with weights frozen</b>\n",
    "\n",
    "We will produce training loss curves and compare the results."
   ]
  },
  {
   "cell_type": "markdown",
   "id": "30f18e65-2495-416c-b05b-62b0e53f2fb4",
   "metadata": {
    "tags": []
   },
   "source": [
    "## VCN Models"
   ]
  },
  {
   "cell_type": "code",
   "execution_count": 18,
   "id": "c628eb65-7ff4-494f-90f0-f3c00575ef62",
   "metadata": {
    "tags": []
   },
   "outputs": [
    {
     "ename": "TypeError",
     "evalue": "__init__() got an unexpected keyword argument 'freeze_pretrained'",
     "output_type": "error",
     "traceback": [
      "\u001b[0;31m---------------------------------------------------------------------------\u001b[0m",
      "\u001b[0;31mTypeError\u001b[0m                                 Traceback (most recent call last)",
      "Cell \u001b[0;32mIn[18], line 3\u001b[0m\n\u001b[1;32m      1\u001b[0m vcn32s \u001b[38;5;241m=\u001b[39m [(\u001b[38;5;124m\"\u001b[39m\u001b[38;5;124mnot pretrained\u001b[39m\u001b[38;5;124m\"\u001b[39m, VCN32(pretrained\u001b[38;5;241m=\u001b[39m\u001b[38;5;28;01mFalse\u001b[39;00m)), \n\u001b[1;32m      2\u001b[0m           (\u001b[38;5;124m\"\u001b[39m\u001b[38;5;124mpretrained\u001b[39m\u001b[38;5;124m\"\u001b[39m, VCN32(pretrained\u001b[38;5;241m=\u001b[39m\u001b[38;5;28;01mTrue\u001b[39;00m)), \n\u001b[0;32m----> 3\u001b[0m           (\u001b[38;5;124m\"\u001b[39m\u001b[38;5;124mpretrained [frozen]\u001b[39m\u001b[38;5;124m\"\u001b[39m, \u001b[43mVCN32\u001b[49m\u001b[43m(\u001b[49m\u001b[43mpretrained\u001b[49m\u001b[38;5;241;43m=\u001b[39;49m\u001b[38;5;28;43;01mTrue\u001b[39;49;00m\u001b[43m,\u001b[49m\u001b[43m \u001b[49m\u001b[43mfreeze_pretrained\u001b[49m\u001b[38;5;241;43m=\u001b[39;49m\u001b[38;5;28;43;01mTrue\u001b[39;49;00m\u001b[43m)\u001b[49m)]\n",
      "\u001b[0;31mTypeError\u001b[0m: __init__() got an unexpected keyword argument 'freeze_pretrained'"
     ]
    }
   ],
   "source": [
    "vcn32s = [(\"not pretrained\", VCN32(pretrained=False)), \n",
    "          (\"pretrained\", VCN32(pretrained=True)), \n",
    "          (\"pretrained [frozen]\", VCN32(pretrained=True, freeze_pretrained=True))]"
   ]
  },
  {
   "cell_type": "code",
   "execution_count": null,
   "id": "47646b71-795e-47f1-897d-b0254bd241fc",
   "metadata": {},
   "outputs": [],
   "source": []
  }
 ],
 "metadata": {
  "kernelspec": {
   "display_name": "Python 3 (ipykernel)",
   "language": "python",
   "name": "python3"
  },
  "language_info": {
   "codemirror_mode": {
    "name": "ipython",
    "version": 3
   },
   "file_extension": ".py",
   "mimetype": "text/x-python",
   "name": "python",
   "nbconvert_exporter": "python",
   "pygments_lexer": "ipython3",
   "version": "3.9.16"
  }
 },
 "nbformat": 4,
 "nbformat_minor": 5
}
