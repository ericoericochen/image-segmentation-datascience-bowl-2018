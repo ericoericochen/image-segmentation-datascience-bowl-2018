{
 "cells": [
  {
   "cell_type": "code",
   "execution_count": 3,
   "id": "39381361-4fe1-42d4-94f4-46440cdcbb63",
   "metadata": {
    "tags": []
   },
   "outputs": [
    {
     "name": "stdout",
     "output_type": "stream",
     "text": [
      "The autoreload extension is already loaded. To reload it, use:\n",
      "  %reload_ext autoreload\n"
     ]
    }
   ],
   "source": [
    "%load_ext autoreload\n",
    "%autoreload 2"
   ]
  },
  {
   "cell_type": "code",
   "execution_count": 85,
   "id": "552ccbd7-38f5-4482-8f10-8815695626d9",
   "metadata": {
    "tags": []
   },
   "outputs": [],
   "source": [
    "import torch\n",
    "from torch.utils.data import DataLoader, random_split\n",
    "from torchvision.transforms import ToTensor, Normalize, Compose, Resize, ToPILImage\n",
    "from dataset import SegmentationDataset\n",
    "from models import VCN32, VCN16, VCN8\n",
    "from train import VCNTrainer\n",
    "import matplotlib.pyplot as plt\n",
    "import pandas as pd\n",
    "import evals\n",
    "from IPython.display import display\n",
    "import inference"
   ]
  },
  {
   "cell_type": "markdown",
   "id": "53189a38-796c-4f6b-8401-e6962d828ad4",
   "metadata": {},
   "source": [
    "# Semantic Segmentation with Fully Convolutional Networks\n",
    "Semantic Segmentation is a task where you look at every pixel of an image and classify it in one of C categories. It's like coloring images in a coloring book. Green for grass. Blue for sky. Yellow for sun. So on and so forth. Training a neural net for semantic segmentation is a much more fancy way of saying \"I'm going to teach an AI to be an expert at coloring within the lines.\" \n",
    "\n",
    "\n",
    "\n",
    "To do this task we'll use a fully convolutional network, a neural net that consists only of convolutional layers with ReLU activations and pooling layers mixed in."
   ]
  },
  {
   "cell_type": "markdown",
   "id": "30fc2bc1-2856-4780-a738-c359435aaea6",
   "metadata": {},
   "source": [
    "## Config"
   ]
  },
  {
   "cell_type": "code",
   "execution_count": 5,
   "id": "9cf9d157-aa50-40fa-8308-4042199d77f9",
   "metadata": {},
   "outputs": [],
   "source": [
    "BATCH_SIZE = 32\n",
    "NUM_CLASSES = 2\n",
    "DEVICE = torch.device(\"cuda\" if torch.cuda.is_available() else \"cpu\")\n",
    "EPOCHS = 50\n",
    "WEIGHT_DECAY = 5e-4\n",
    "LR = 3e-4"
   ]
  },
  {
   "cell_type": "markdown",
   "id": "2de21cc2-d511-40ee-a55d-9139209b9299",
   "metadata": {},
   "source": [
    "## Dataset"
   ]
  },
  {
   "cell_type": "code",
   "execution_count": 6,
   "id": "526599f0-ae93-4e5f-b60c-03676ec96022",
   "metadata": {
    "tags": []
   },
   "outputs": [
    {
     "data": {
      "text/plain": [
       "<torch._C.Generator at 0x7fd50ead4050>"
      ]
     },
     "execution_count": 6,
     "metadata": {},
     "output_type": "execute_result"
    }
   ],
   "source": [
    "torch.manual_seed(5)"
   ]
  },
  {
   "cell_type": "code",
   "execution_count": 7,
   "id": "06fece8c-f5b9-4572-8d80-21978110f0ee",
   "metadata": {
    "tags": []
   },
   "outputs": [],
   "source": [
    "transform = Compose([\n",
    "    ToTensor(),\n",
    "    Normalize(mean=[0.485, 0.456, 0.406], std=[0.229, 0.224, 0.225]),\n",
    "    Resize((224, 224), antialias=True)\n",
    "])\n",
    "\n",
    "target_transform = Compose([\n",
    "    Resize((224, 224), antialias=True),\n",
    "    lambda x: x[0] # first dimension is unnecessary\n",
    "])"
   ]
  },
  {
   "cell_type": "code",
   "execution_count": 8,
   "id": "a2f68e9d-4846-47da-803c-3ca5ec241679",
   "metadata": {
    "tags": []
   },
   "outputs": [],
   "source": [
    "train_val_set = SegmentationDataset(root=\"data/stage1_train\", train=True, transform=transform, target_transform=target_transform)\n",
    "train_set, val_set = random_split(train_val_set, lengths=[0.8, 0.2]) # 80/20 split\n",
    "test_set = SegmentationDataset(root=\"data/stage1_test\", train=False)"
   ]
  },
  {
   "cell_type": "code",
   "execution_count": 9,
   "id": "0de73059-9c19-4dd7-bfd7-dd165966e6d3",
   "metadata": {
    "tags": []
   },
   "outputs": [
    {
     "name": "stdout",
     "output_type": "stream",
     "text": [
      "train_set size: 536, val_set size: 134, test_set size: 65\n"
     ]
    }
   ],
   "source": [
    "print(f\"train_set size: {len(train_set)}, val_set size: {len(val_set)}, test_set size: {len(test_set)}\")"
   ]
  },
  {
   "cell_type": "code",
   "execution_count": 10,
   "id": "cfcd1eb5-b954-48f6-bbdd-08a5b6a97ee5",
   "metadata": {
    "tags": []
   },
   "outputs": [],
   "source": [
    "train_loader = DataLoader(train_set, batch_size=BATCH_SIZE, shuffle=True)\n",
    "val_loader = DataLoader(val_set, batch_size=BATCH_SIZE, shuffle=True)\n",
    "test_loader = DataLoader(test_set, batch_size=BATCH_SIZE, shuffle=True)"
   ]
  },
  {
   "cell_type": "code",
   "execution_count": 11,
   "id": "a6df4613-07d8-4435-b39a-e8cee7adc562",
   "metadata": {
    "tags": []
   },
   "outputs": [
    {
     "name": "stdout",
     "output_type": "stream",
     "text": [
      "torch.Size([32, 3, 224, 224]) torch.Size([32, 224, 224])\n"
     ]
    }
   ],
   "source": [
    "for (X, Y) in train_loader:\n",
    "    print(X.shape, Y.shape)\n",
    "    break"
   ]
  },
  {
   "cell_type": "markdown",
   "id": "6c6015ff-dc74-43fd-b778-2ad1360eb386",
   "metadata": {},
   "source": [
    "## Models\n",
    "VCN32, VCN16, and VCN8"
   ]
  },
  {
   "cell_type": "code",
   "execution_count": 22,
   "id": "f558a5dd-7d60-4381-82ef-51a93ddf5ce9",
   "metadata": {
    "tags": []
   },
   "outputs": [],
   "source": [
    "vcn32 = VCN32(pretrained=True, num_classes=NUM_CLASSES)\n",
    "vcn16 = VCN16(pretrained=True, num_classes=NUM_CLASSES)\n",
    "vcn8 = VCN8(pretrained=True, num_classes=NUM_CLASSES)"
   ]
  },
  {
   "cell_type": "markdown",
   "id": "7868ce0c-755f-44d4-837f-eb2f9a159972",
   "metadata": {},
   "source": [
    "## Training"
   ]
  },
  {
   "cell_type": "code",
   "execution_count": 23,
   "id": "da55a4d8-e908-4f7c-a0ec-50eca063b834",
   "metadata": {
    "tags": []
   },
   "outputs": [],
   "source": [
    "torch.cuda.empty_cache()"
   ]
  },
  {
   "cell_type": "code",
   "execution_count": 12,
   "id": "ee9529e4-6a75-42b0-af07-eea469103d9a",
   "metadata": {
    "tags": []
   },
   "outputs": [],
   "source": [
    "cross_entropy = torch.nn.CrossEntropyLoss()"
   ]
  },
  {
   "cell_type": "code",
   "execution_count": 13,
   "id": "8e46226e-702f-4111-9336-b317b21ee59a",
   "metadata": {
    "tags": []
   },
   "outputs": [],
   "source": [
    "vcn32_optimizer = torch.optim.Adam(vcn32.parameters(), lr=LR, weight_decay=WEIGHT_DECAY)\n",
    "vcn16_optimizer = torch.optim.Adam(vcn16.parameters(), lr=LR, weight_decay=WEIGHT_DECAY)\n",
    "vcn8_optimizer = torch.optim.Adam(vcn8.parameters(), lr=LR, weight_decay=WEIGHT_DECAY)"
   ]
  },
  {
   "cell_type": "code",
   "execution_count": 14,
   "id": "80ca56a6-5c06-4907-83fd-e43c3c6d455a",
   "metadata": {
    "tags": []
   },
   "outputs": [],
   "source": [
    "vcn32_trainer = VCNTrainer(\n",
    "    model=vcn32,\n",
    "    criterion=cross_entropy,\n",
    "    train_loader=train_loader,\n",
    "    val_loader=val_loader,\n",
    "    optimizer=vcn32_optimizer,\n",
    "    epochs=EPOCHS,\n",
    "    device=DEVICE,\n",
    "    checkpoint=\"vcn32.pth\"\n",
    ")"
   ]
  },
  {
   "cell_type": "code",
   "execution_count": 15,
   "id": "990b8213-3603-4192-b8b7-d0877c75ffbb",
   "metadata": {
    "tags": []
   },
   "outputs": [
    {
     "name": "stderr",
     "output_type": "stream",
     "text": [
      "                                                                                                                               \r"
     ]
    },
    {
     "name": "stdout",
     "output_type": "stream",
     "text": [
      "Epoch [1/50]: Loss: 0.5995777757728801, Val Loss: 0.42112712264060975 Train Pixel Acc: 0.8392379718911819, Val Pixel Acc: 0.8408671625133263\n"
     ]
    },
    {
     "name": "stderr",
     "output_type": "stream",
     "text": [
      "                                                                                                                               \r"
     ]
    },
    {
     "name": "stdout",
     "output_type": "stream",
     "text": [
      "Epoch [2/50]: Loss: 0.3740628116271075, Val Loss: 0.34203568696975706 Train Pixel Acc: 0.8606316586511004, Val Pixel Acc: 0.8625448867746726\n"
     ]
    },
    {
     "name": "stderr",
     "output_type": "stream",
     "text": [
      "                                                                                                                              \r"
     ]
    },
    {
     "name": "stdout",
     "output_type": "stream",
     "text": [
      "Epoch [3/50]: Loss: 0.33103476289440603, Val Loss: 0.3028538584709167 Train Pixel Acc: 0.8608711886398682, Val Pixel Acc: 0.8627214295233019\n"
     ]
    },
    {
     "name": "stderr",
     "output_type": "stream",
     "text": [
      "                                                                                                                               \r"
     ]
    },
    {
     "name": "stdout",
     "output_type": "stream",
     "text": [
      "Epoch [4/50]: Loss: 0.30753371382460876, Val Loss: 0.28608196675777436 Train Pixel Acc: 0.8643570899091912, Val Pixel Acc: 0.8663126689575084\n"
     ]
    },
    {
     "name": "stderr",
     "output_type": "stream",
     "text": [
      "                                                                                                                               \r"
     ]
    },
    {
     "name": "stdout",
     "output_type": "stream",
     "text": [
      "Epoch [5/50]: Loss: 0.29580461452989015, Val Loss: 0.2821623235940933 Train Pixel Acc: 0.8670512259533011, Val Pixel Acc: 0.8696070429104478\n"
     ]
    },
    {
     "name": "stderr",
     "output_type": "stream",
     "text": [
      "                                                                                                                               \r"
     ]
    },
    {
     "name": "stdout",
     "output_type": "stream",
     "text": [
      "Epoch [6/50]: Loss: 0.28561242012416616, Val Loss: 0.30585954785346986 Train Pixel Acc: 0.870118488889259, Val Pixel Acc: 0.872091134728145\n"
     ]
    },
    {
     "name": "stderr",
     "output_type": "stream",
     "text": [
      "                                                                                                                               \r"
     ]
    },
    {
     "name": "stdout",
     "output_type": "stream",
     "text": [
      "Epoch [7/50]: Loss: 0.27711673869806175, Val Loss: 0.3019730031490326 Train Pixel Acc: 0.876183074384138, Val Pixel Acc: 0.8776552802790892\n"
     ]
    },
    {
     "name": "stderr",
     "output_type": "stream",
     "text": [
      "                                                                                                                               \r"
     ]
    },
    {
     "name": "stdout",
     "output_type": "stream",
     "text": [
      "Epoch [8/50]: Loss: 0.27567315452239094, Val Loss: 0.27169098854064944 Train Pixel Acc: 0.8769540545637565, Val Pixel Acc: 0.8791869038893543\n"
     ]
    },
    {
     "name": "stderr",
     "output_type": "stream",
     "text": [
      "                                                                                                                              \r"
     ]
    },
    {
     "name": "stdout",
     "output_type": "stream",
     "text": [
      "Epoch [9/50]: Loss: 0.2711062554050894, Val Loss: 0.2731661289930344 Train Pixel Acc: 0.8772582821899749, Val Pixel Acc: 0.8788547893504417\n"
     ]
    },
    {
     "name": "stderr",
     "output_type": "stream",
     "text": [
      "                                                                                                                                \r"
     ]
    },
    {
     "name": "stdout",
     "output_type": "stream",
     "text": [
      "Epoch [10/50]: Loss: 0.26967381817453046, Val Loss: 0.27016519010066986 Train Pixel Acc: 0.8781650530431389, Val Pixel Acc: 0.8793000875723423\n"
     ]
    },
    {
     "name": "stderr",
     "output_type": "stream",
     "text": [
      "                                                                                                                                \r"
     ]
    },
    {
     "name": "stdout",
     "output_type": "stream",
     "text": [
      "Epoch [11/50]: Loss: 0.26575573928215923, Val Loss: 0.2778165638446808 Train Pixel Acc: 0.879238847912066, Val Pixel Acc: 0.8800492415949589\n"
     ]
    },
    {
     "name": "stderr",
     "output_type": "stream",
     "text": [
      "                                                                                                                                \r"
     ]
    },
    {
     "name": "stdout",
     "output_type": "stream",
     "text": [
      "Epoch [12/50]: Loss: 0.2706006397219265, Val Loss: 0.2663062155246735 Train Pixel Acc: 0.8792520477174078, Val Pixel Acc: 0.879799374857219\n"
     ]
    },
    {
     "name": "stderr",
     "output_type": "stream",
     "text": [
      "                                                                                                                                \r"
     ]
    },
    {
     "name": "stdout",
     "output_type": "stream",
     "text": [
      "Epoch [13/50]: Loss: 0.2646300284301533, Val Loss: 0.2813663691282272 Train Pixel Acc: 0.879962234427353, Val Pixel Acc: 0.8806814936795614\n"
     ]
    },
    {
     "name": "stderr",
     "output_type": "stream",
     "text": [
      "                                                                                                                                \r"
     ]
    },
    {
     "name": "stdout",
     "output_type": "stream",
     "text": [
      "Epoch [14/50]: Loss: 0.2674533304046182, Val Loss: 0.25536806881427765 Train Pixel Acc: 0.879238847912066, Val Pixel Acc: 0.8796881246668443\n"
     ]
    },
    {
     "name": "stderr",
     "output_type": "stream",
     "text": [
      "                                                                                                                                \r"
     ]
    },
    {
     "name": "stdout",
     "output_type": "stream",
     "text": [
      "Epoch [15/50]: Loss: 0.26577599872561064, Val Loss: 0.2859681874513626 Train Pixel Acc: 0.8808748801234579, Val Pixel Acc: 0.881652255701721\n"
     ]
    },
    {
     "name": "stderr",
     "output_type": "stream",
     "text": [
      "                                                                                                                                \r"
     ]
    },
    {
     "name": "stdout",
     "output_type": "stream",
     "text": [
      "Epoch [16/50]: Loss: 0.2631109050091575, Val Loss: 0.26002668738365176 Train Pixel Acc: 0.879592007774425, Val Pixel Acc: 0.8804412944048888\n"
     ]
    },
    {
     "name": "stderr",
     "output_type": "stream",
     "text": [
      "                                                                                                                               \r"
     ]
    },
    {
     "name": "stdout",
     "output_type": "stream",
     "text": [
      "Epoch [17/50]: Loss: 0.2645109094241086, Val Loss: 0.2680013358592987 Train Pixel Acc: 0.8789589004911667, Val Pixel Acc: 0.8798261462934054\n"
     ]
    },
    {
     "name": "stderr",
     "output_type": "stream",
     "text": [
      "                                                                                                                                \r"
     ]
    },
    {
     "name": "stdout",
     "output_type": "stream",
     "text": [
      "Epoch [18/50]: Loss: 0.26662852045367746, Val Loss: 0.27073569893836974 Train Pixel Acc: 0.8739781491537847, Val Pixel Acc: 0.875263252455833\n"
     ]
    },
    {
     "name": "stderr",
     "output_type": "stream",
     "text": [
      "                                                                                                                                \r"
     ]
    },
    {
     "name": "stdout",
     "output_type": "stream",
     "text": [
      "Epoch [19/50]: Loss: 0.2683872598059037, Val Loss: 0.2866215169429779 Train Pixel Acc: 0.8777999575821467, Val Pixel Acc: 0.8788663903061225\n"
     ]
    },
    {
     "name": "stderr",
     "output_type": "stream",
     "text": [
      "                                                                                                                                \r"
     ]
    },
    {
     "name": "stdout",
     "output_type": "stream",
     "text": [
      "Epoch [20/50]: Loss: 0.26673781871795654, Val Loss: 0.27423614263534546 Train Pixel Acc: 0.8778680388316707, Val Pixel Acc: 0.8782290813946847\n"
     ]
    },
    {
     "name": "stderr",
     "output_type": "stream",
     "text": [
      "                                                                                                                                \r"
     ]
    },
    {
     "name": "stdout",
     "output_type": "stream",
     "text": [
      "Epoch [21/50]: Loss: 0.2638251220478731, Val Loss: 0.27217669486999513 Train Pixel Acc: 0.8807657493384481, Val Pixel Acc: 0.8811568354020712\n"
     ]
    },
    {
     "name": "stderr",
     "output_type": "stream",
     "text": [
      "                                                                                                                                \r"
     ]
    },
    {
     "name": "stdout",
     "output_type": "stream",
     "text": [
      "Epoch [22/50]: Loss: 0.26541315545054045, Val Loss: 0.24938730597496034 Train Pixel Acc: 0.8774136680675069, Val Pixel Acc: 0.8789197844482942\n"
     ]
    },
    {
     "name": "stderr",
     "output_type": "stream",
     "text": [
      "                                                                                                                                \r"
     ]
    },
    {
     "name": "stdout",
     "output_type": "stream",
     "text": [
      "Epoch [23/50]: Loss: 0.26532600557102876, Val Loss: 0.26452497243881223 Train Pixel Acc: 0.8808494100765306, Val Pixel Acc: 0.8809605115367042\n"
     ]
    },
    {
     "name": "stderr",
     "output_type": "stream",
     "text": [
      "                                                                                                                               \r"
     ]
    },
    {
     "name": "stdout",
     "output_type": "stream",
     "text": [
      "Epoch [24/50]: Loss: 0.2631630555671804, Val Loss: 0.26022244691848756 Train Pixel Acc: 0.8818932729924992, Val Pixel Acc: 0.8824100360759976\n"
     ]
    },
    {
     "name": "stderr",
     "output_type": "stream",
     "text": [
      "                                                                                                                                \r"
     ]
    },
    {
     "name": "stdout",
     "output_type": "stream",
     "text": [
      "Epoch [25/50]: Loss: 0.2625300857950659, Val Loss: 0.2660740911960602 Train Pixel Acc: 0.8817951854249162, Val Pixel Acc: 0.881765290654508\n"
     ]
    },
    {
     "name": "stderr",
     "output_type": "stream",
     "text": [
      "                                                                                                                               \r"
     ]
    },
    {
     "name": "stdout",
     "output_type": "stream",
     "text": [
      "Epoch [26/50]: Loss: 0.2619923835291582, Val Loss: 0.277007395029068 Train Pixel Acc: 0.881205767638212, Val Pixel Acc: 0.8812544024139507\n"
     ]
    },
    {
     "name": "stderr",
     "output_type": "stream",
     "text": [
      "                                                                                                                                \r"
     ]
    },
    {
     "name": "stdout",
     "output_type": "stream",
     "text": [
      "Epoch [27/50]: Loss: 0.26485076546669006, Val Loss: 0.2747116178274155 Train Pixel Acc: 0.8800342942097548, Val Pixel Acc: 0.8812454786018885\n"
     ]
    },
    {
     "name": "stderr",
     "output_type": "stream",
     "text": [
      "                                                                                                                                \r"
     ]
    },
    {
     "name": "stdout",
     "output_type": "stream",
     "text": [
      "Epoch [28/50]: Loss: 0.26285044673611135, Val Loss: 0.25354662239551545 Train Pixel Acc: 0.8794385553895065, Val Pixel Acc: 0.8797264970587115\n"
     ]
    },
    {
     "name": "stderr",
     "output_type": "stream",
     "text": [
      "                                                                                                                                \r"
     ]
    },
    {
     "name": "stdout",
     "output_type": "stream",
     "text": [
      "Epoch [29/50]: Loss: 0.26470067571191225, Val Loss: 0.2563083529472351 Train Pixel Acc: 0.8804214761056008, Val Pixel Acc: 0.8808141610188852\n"
     ]
    },
    {
     "name": "stderr",
     "output_type": "stream",
     "text": [
      "                                                                                                                               \r"
     ]
    },
    {
     "name": "stdout",
     "output_type": "stream",
     "text": [
      "Epoch [30/50]: Loss: 0.26250526396667256, Val Loss: 0.2720133066177368 Train Pixel Acc: 0.8801871516738692, Val Pixel Acc: 0.880296282458879\n"
     ]
    },
    {
     "name": "stderr",
     "output_type": "stream",
     "text": [
      "                                                                                                                               \r"
     ]
    },
    {
     "name": "stdout",
     "output_type": "stream",
     "text": [
      "Epoch [31/50]: Loss: 0.2607560175306657, Val Loss: 0.28288834989070893 Train Pixel Acc: 0.881825749481229, Val Pixel Acc: 0.8816184939460859\n"
     ]
    },
    {
     "name": "stderr",
     "output_type": "stream",
     "text": [
      "                                                                                                                                \r"
     ]
    },
    {
     "name": "stdout",
     "output_type": "stream",
     "text": [
      "Epoch [32/50]: Loss: 0.26166857077794914, Val Loss: 0.24712921679019928 Train Pixel Acc: 0.8805306812557112, Val Pixel Acc: 0.8804180924935273\n"
     ]
    },
    {
     "name": "stderr",
     "output_type": "stream",
     "text": [
      "                                                                                                                               \r"
     ]
    },
    {
     "name": "stdout",
     "output_type": "stream",
     "text": [
      "Epoch [33/50]: Loss: 0.2648695567074944, Val Loss: 0.2935052514076233 Train Pixel Acc: 0.87863195432674, Val Pixel Acc: 0.8792858094730429\n"
     ]
    },
    {
     "name": "stderr",
     "output_type": "stream",
     "text": [
      "                                                                                                                                \r"
     ]
    },
    {
     "name": "stdout",
     "output_type": "stream",
     "text": [
      "Epoch [34/50]: Loss: 0.26370760623146505, Val Loss: 0.2815384387969971 Train Pixel Acc: 0.8816344824426973, Val Pixel Acc: 0.8819162518085593\n"
     ]
    },
    {
     "name": "stderr",
     "output_type": "stream",
     "text": [
      "                                                                                                                               \r"
     ]
    },
    {
     "name": "stdout",
     "output_type": "stream",
     "text": [
      "Epoch [35/50]: Loss: 0.2613169813857359, Val Loss: 0.2792510181665421 Train Pixel Acc: 0.8814042852740444, Val Pixel Acc: 0.8812444374904813\n"
     ]
    },
    {
     "name": "stderr",
     "output_type": "stream",
     "text": [
      "                                                                                                                                \r"
     ]
    },
    {
     "name": "stdout",
     "output_type": "stream",
     "text": [
      "Epoch [36/50]: Loss: 0.2593217439511243, Val Loss: 0.2710945338010788 Train Pixel Acc: 0.8813743161385357, Val Pixel Acc: 0.8812981290930552\n"
     ]
    },
    {
     "name": "stderr",
     "output_type": "stream",
     "text": [
      "                                                                                                                                \r"
     ]
    },
    {
     "name": "stdout",
     "output_type": "stream",
     "text": [
      "Epoch [37/50]: Loss: 0.257431042544982, Val Loss: 0.26802889406681063 Train Pixel Acc: 0.8825394685334488, Val Pixel Acc: 0.8825587662770332\n"
     ]
    },
    {
     "name": "stderr",
     "output_type": "stream",
     "text": [
      "                                                                                                                                \r"
     ]
    },
    {
     "name": "stdout",
     "output_type": "stream",
     "text": [
      "Epoch [38/50]: Loss: 0.25903430581092834, Val Loss: 0.2517589271068573 Train Pixel Acc: 0.8825468306784001, Val Pixel Acc: 0.8824635789483704\n"
     ]
    },
    {
     "name": "stderr",
     "output_type": "stream",
     "text": [
      "                                                                                                                                \r"
     ]
    },
    {
     "name": "stdout",
     "output_type": "stream",
     "text": [
      "Epoch [39/50]: Loss: 0.25806554538362164, Val Loss: 0.30052870512008667 Train Pixel Acc: 0.8701908089495126, Val Pixel Acc: 0.8719099813432836\n"
     ]
    },
    {
     "name": "stderr",
     "output_type": "stream",
     "text": [
      "                                                                                                                                \r"
     ]
    },
    {
     "name": "stdout",
     "output_type": "stream",
     "text": [
      "Epoch [40/50]: Loss: 0.26294273576315713, Val Loss: 0.27276513278484343 Train Pixel Acc: 0.8799214079871688, Val Pixel Acc: 0.8810256553647579\n"
     ]
    },
    {
     "name": "stderr",
     "output_type": "stream",
     "text": [
      "                                                                                                                                \r"
     ]
    },
    {
     "name": "stdout",
     "output_type": "stream",
     "text": [
      "Epoch [41/50]: Loss: 0.25880877761279836, Val Loss: 0.2539644867181778 Train Pixel Acc: 0.8826363662594235, Val Pixel Acc: 0.882599667082318\n"
     ]
    },
    {
     "name": "stderr",
     "output_type": "stream",
     "text": [
      "                                                                                                                                \r"
     ]
    },
    {
     "name": "stdout",
     "output_type": "stream",
     "text": [
      "Epoch [42/50]: Loss: 0.2586282053414513, Val Loss: 0.2692383795976639 Train Pixel Acc: 0.8808219321718893, Val Pixel Acc: 0.8816663850708194\n"
     ]
    },
    {
     "name": "stderr",
     "output_type": "stream",
     "text": [
      "                                                                                                                                \r"
     ]
    },
    {
     "name": "stdout",
     "output_type": "stream",
     "text": [
      "Epoch [43/50]: Loss: 0.2601051733774297, Val Loss: 0.2537459284067154 Train Pixel Acc: 0.883258988063509, Val Pixel Acc: 0.8831487789845416\n"
     ]
    },
    {
     "name": "stderr",
     "output_type": "stream",
     "text": [
      "                                                                                                                                \r"
     ]
    },
    {
     "name": "stdout",
     "output_type": "stream",
     "text": [
      "Epoch [44/50]: Loss: 0.256457937114379, Val Loss: 0.24946603178977966 Train Pixel Acc: 0.8830497990357523, Val Pixel Acc: 0.8826225715332775\n"
     ]
    },
    {
     "name": "stderr",
     "output_type": "stream",
     "text": [
      "                                                                                                                                \r"
     ]
    },
    {
     "name": "stdout",
     "output_type": "stream",
     "text": [
      "Epoch [45/50]: Loss: 0.2554517449701534, Val Loss: 0.253945979475975 Train Pixel Acc: 0.8836112555446619, Val Pixel Acc: 0.8832472383776272\n"
     ]
    },
    {
     "name": "stderr",
     "output_type": "stream",
     "text": [
      "                                                                                                                                \r"
     ]
    },
    {
     "name": "stdout",
     "output_type": "stream",
     "text": [
      "Epoch [46/50]: Loss: 0.2564266008489272, Val Loss: 0.2652766346931458 Train Pixel Acc: 0.8831690062918824, Val Pixel Acc: 0.882741406963905\n"
     ]
    },
    {
     "name": "stderr",
     "output_type": "stream",
     "text": [
      "                                                                                                                                \r"
     ]
    },
    {
     "name": "stdout",
     "output_type": "stream",
     "text": [
      "Epoch [47/50]: Loss: 0.2621481471201953, Val Loss: 0.26597820222377777 Train Pixel Acc: 0.882880283789122, Val Pixel Acc: 0.8827403658524977\n"
     ]
    },
    {
     "name": "stderr",
     "output_type": "stream",
     "text": [
      "                                                                                                                                \r"
     ]
    },
    {
     "name": "stdout",
     "output_type": "stream",
     "text": [
      "Epoch [48/50]: Loss: 0.2605157380594927, Val Loss: 0.2863243162631989 Train Pixel Acc: 0.8802662017757196, Val Pixel Acc: 0.880300000713905\n"
     ]
    },
    {
     "name": "stderr",
     "output_type": "stream",
     "text": [
      "                                                                                                                                \r"
     ]
    },
    {
     "name": "stdout",
     "output_type": "stream",
     "text": [
      "Epoch [49/50]: Loss: 0.25822900410960703, Val Loss: 0.2509140491485596 Train Pixel Acc: 0.882065576930399, Val Pixel Acc: 0.8822595211125495\n"
     ]
    },
    {
     "name": "stderr",
     "output_type": "stream",
     "text": [
      "                                                                                                                                \r"
     ]
    },
    {
     "name": "stdout",
     "output_type": "stream",
     "text": [
      "Epoch [50/50]: Loss: 0.2575162333600661, Val Loss: 0.27033878266811373 Train Pixel Acc: 0.8809535955823561, Val Pixel Acc: 0.880625571123972\n"
     ]
    }
   ],
   "source": [
    "vcn32_trainer.train()"
   ]
  },
  {
   "cell_type": "code",
   "execution_count": 15,
   "id": "557abd41-8002-4a46-89ef-037af9df5f85",
   "metadata": {},
   "outputs": [],
   "source": [
    "vcn16_trainer = VCNTrainer(\n",
    "    model=vcn16,\n",
    "    criterion=cross_entropy,\n",
    "    train_loader=train_loader,\n",
    "    val_loader=val_loader,\n",
    "    optimizer=vcn16_optimizer,\n",
    "    epochs=EPOCHS,\n",
    "    device=DEVICE,\n",
    "    checkpoint=\"vcn16.pth\"\n",
    ")"
   ]
  },
  {
   "cell_type": "code",
   "execution_count": 16,
   "id": "b87a6e97-7cf0-45bc-a08a-1d3fe384b40e",
   "metadata": {
    "tags": []
   },
   "outputs": [
    {
     "name": "stderr",
     "output_type": "stream",
     "text": [
      "                                                                                                                              \r"
     ]
    },
    {
     "name": "stdout",
     "output_type": "stream",
     "text": [
      "Epoch [1/50]: Loss: 0.6111002879984239, Val Loss: 0.4578848719596863 Train Pixel Acc: 0.7695045901114643, Val Pixel Acc: 0.7679649722528937\n"
     ]
    },
    {
     "name": "stderr",
     "output_type": "stream",
     "text": [
      "                                                                                                                               \r"
     ]
    },
    {
     "name": "stdout",
     "output_type": "stream",
     "text": [
      "Epoch [2/50]: Loss: 0.34268929239581614, Val Loss: 0.2703412532806396 Train Pixel Acc: 0.8788599205423774, Val Pixel Acc: 0.8804578034572038\n"
     ]
    },
    {
     "name": "stderr",
     "output_type": "stream",
     "text": [
      "                                                                                                                               \r"
     ]
    },
    {
     "name": "stdout",
     "output_type": "stream",
     "text": [
      "Epoch [3/50]: Loss: 0.2513396021197824, Val Loss: 0.23338566720485687 Train Pixel Acc: 0.8927884666868147, Val Pixel Acc: 0.8919405186281603\n"
     ]
    },
    {
     "name": "stderr",
     "output_type": "stream",
     "text": [
      "                                                                                                                               \r"
     ]
    },
    {
     "name": "stdout",
     "output_type": "stream",
     "text": [
      "Epoch [4/50]: Loss: 0.2212157337104573, Val Loss: 0.202650985121727 Train Pixel Acc: 0.9039561341094273, Val Pixel Acc: 0.9023578793690984\n"
     ]
    },
    {
     "name": "stderr",
     "output_type": "stream",
     "text": [
      "                                                                                                                               \r"
     ]
    },
    {
     "name": "stdout",
     "output_type": "stream",
     "text": [
      "Epoch [5/50]: Loss: 0.20067387205712936, Val Loss: 0.18846068680286407 Train Pixel Acc: 0.9093692069586696, Val Pixel Acc: 0.9084855636517667\n"
     ]
    },
    {
     "name": "stderr",
     "output_type": "stream",
     "text": [
      "                                                                                                                               \r"
     ]
    },
    {
     "name": "stdout",
     "output_type": "stream",
     "text": [
      "Epoch [6/50]: Loss: 0.18738405669436736, Val Loss: 0.20312246084213256 Train Pixel Acc: 0.9158680474580224, Val Pixel Acc: 0.9133628731343284\n"
     ]
    },
    {
     "name": "stderr",
     "output_type": "stream",
     "text": [
      "                                                                                                                               \r"
     ]
    },
    {
     "name": "stdout",
     "output_type": "stream",
     "text": [
      "Epoch [7/50]: Loss: 0.17832322856959174, Val Loss: 0.20309253334999083 Train Pixel Acc: 0.9181902836344426, Val Pixel Acc: 0.9154052362549497\n"
     ]
    },
    {
     "name": "stderr",
     "output_type": "stream",
     "text": [
      "                                                                                                                               \r"
     ]
    },
    {
     "name": "stdout",
     "output_type": "stream",
     "text": [
      "Epoch [8/50]: Loss: 0.17259342091925003, Val Loss: 0.17151488065719606 Train Pixel Acc: 0.9207053113339553, Val Pixel Acc: 0.9178943848994822\n"
     ]
    },
    {
     "name": "stderr",
     "output_type": "stream",
     "text": [
      "                                                                                                                               \r"
     ]
    },
    {
     "name": "stdout",
     "output_type": "stream",
     "text": [
      "Epoch [9/50]: Loss: 0.16893528489505544, Val Loss: 0.1788978934288025 Train Pixel Acc: 0.9205077232618794, Val Pixel Acc: 0.9173599972871611\n"
     ]
    },
    {
     "name": "stderr",
     "output_type": "stream",
     "text": [
      "                                                                                                                                \r"
     ]
    },
    {
     "name": "stdout",
     "output_type": "stream",
     "text": [
      "Epoch [10/50]: Loss: 0.17033500618794384, Val Loss: 0.1717005968093872 Train Pixel Acc: 0.921762559968017, Val Pixel Acc: 0.9181494571942583\n"
     ]
    },
    {
     "name": "stderr",
     "output_type": "stream",
     "text": [
      "                                                                                                                                \r"
     ]
    },
    {
     "name": "stdout",
     "output_type": "stream",
     "text": [
      "Epoch [11/50]: Loss: 0.16561267393476822, Val Loss: 0.175893896818161 Train Pixel Acc: 0.9219485842669624, Val Pixel Acc: 0.9191886351088943\n"
     ]
    },
    {
     "name": "stderr",
     "output_type": "stream",
     "text": [
      "                                                                                                                                \r"
     ]
    },
    {
     "name": "stdout",
     "output_type": "stream",
     "text": [
      "Epoch [12/50]: Loss: 0.16555080957272472, Val Loss: 0.16420243680477142 Train Pixel Acc: 0.9248373709616776, Val Pixel Acc: 0.9216374778689461\n"
     ]
    },
    {
     "name": "stderr",
     "output_type": "stream",
     "text": [
      "                                                                                                                                \r"
     ]
    },
    {
     "name": "stdout",
     "output_type": "stream",
     "text": [
      "Epoch [13/50]: Loss: 0.16077732031836228, Val Loss: 0.17497167140245437 Train Pixel Acc: 0.9257481575302696, Val Pixel Acc: 0.9220322078224946\n"
     ]
    },
    {
     "name": "stderr",
     "output_type": "stream",
     "text": [
      "                                                                                                                                \r"
     ]
    },
    {
     "name": "stdout",
     "output_type": "stream",
     "text": [
      "Epoch [14/50]: Loss: 0.15986793663571863, Val Loss: 0.15463862419128419 Train Pixel Acc: 0.9277808160052734, Val Pixel Acc: 0.9242296965427962\n"
     ]
    },
    {
     "name": "stderr",
     "output_type": "stream",
     "text": [
      "                                                                                                                                \r"
     ]
    },
    {
     "name": "stdout",
     "output_type": "stream",
     "text": [
      "Epoch [15/50]: Loss: 0.15552089933086843, Val Loss: 0.17580429017543792 Train Pixel Acc: 0.9289291990700198, Val Pixel Acc: 0.9258181350898569\n"
     ]
    },
    {
     "name": "stderr",
     "output_type": "stream",
     "text": [
      "                                                                                                                                \r"
     ]
    },
    {
     "name": "stdout",
     "output_type": "stream",
     "text": [
      "Epoch [16/50]: Loss: 0.15211485633078745, Val Loss: 0.15005411356687545 Train Pixel Acc: 0.9317596463433788, Val Pixel Acc: 0.9280632174744898\n"
     ]
    },
    {
     "name": "stderr",
     "output_type": "stream",
     "text": [
      "                                                                                                                                \r"
     ]
    },
    {
     "name": "stdout",
     "output_type": "stream",
     "text": [
      "Epoch [17/50]: Loss: 0.15009178922456853, Val Loss: 0.1570381909608841 Train Pixel Acc: 0.9247417374424116, Val Pixel Acc: 0.9214045663741243\n"
     ]
    },
    {
     "name": "stderr",
     "output_type": "stream",
     "text": [
      "                                                                                                                                \r"
     ]
    },
    {
     "name": "stdout",
     "output_type": "stream",
     "text": [
      "Epoch [18/50]: Loss: 0.149695506428971, Val Loss: 0.15107765048742294 Train Pixel Acc: 0.9301400860017515, Val Pixel Acc: 0.926499170680399\n"
     ]
    },
    {
     "name": "stderr",
     "output_type": "stream",
     "text": [
      "                                                                                                                                \r"
     ]
    },
    {
     "name": "stdout",
     "output_type": "stream",
     "text": [
      "Epoch [19/50]: Loss: 0.14422094033044927, Val Loss: 0.15528764426708222 Train Pixel Acc: 0.9329549537865519, Val Pixel Acc: 0.9289512855048736\n"
     ]
    },
    {
     "name": "stderr",
     "output_type": "stream",
     "text": [
      "                                                                                                                                \r"
     ]
    },
    {
     "name": "stdout",
     "output_type": "stream",
     "text": [
      "Epoch [20/50]: Loss: 0.14167122849646738, Val Loss: 0.14338383376598357 Train Pixel Acc: 0.937795117901405, Val Pixel Acc: 0.9338726191269419\n"
     ]
    },
    {
     "name": "stderr",
     "output_type": "stream",
     "text": [
      "                                                                                                                                \r"
     ]
    },
    {
     "name": "stdout",
     "output_type": "stream",
     "text": [
      "Epoch [21/50]: Loss: 0.13930248600595138, Val Loss: 0.15693189799785615 Train Pixel Acc: 0.9390492109565375, Val Pixel Acc: 0.9350675175620622\n"
     ]
    },
    {
     "name": "stderr",
     "output_type": "stream",
     "text": [
      "                                                                                                                                \r"
     ]
    },
    {
     "name": "stdout",
     "output_type": "stream",
     "text": [
      "Epoch [22/50]: Loss: 0.13353278926190207, Val Loss: 0.12842537760734557 Train Pixel Acc: 0.9408493669447723, Val Pixel Acc: 0.9367605134404509\n"
     ]
    },
    {
     "name": "stderr",
     "output_type": "stream",
     "text": [
      "                                                                                                                                \r"
     ]
    },
    {
     "name": "stdout",
     "output_type": "stream",
     "text": [
      "Epoch [23/50]: Loss: 0.13093601824606166, Val Loss: 0.1368608295917511 Train Pixel Acc: 0.9420908922979173, Val Pixel Acc: 0.9380387007881511\n"
     ]
    },
    {
     "name": "stderr",
     "output_type": "stream",
     "text": [
      "                                                                                                                                \r"
     ]
    },
    {
     "name": "stdout",
     "output_type": "stream",
     "text": [
      "Epoch [24/50]: Loss: 0.13032588055905173, Val Loss: 0.136181977391243 Train Pixel Acc: 0.9394371365033887, Val Pixel Acc: 0.9356365593112245\n"
     ]
    },
    {
     "name": "stderr",
     "output_type": "stream",
     "text": [
      "                                                                                                                                \r"
     ]
    },
    {
     "name": "stdout",
     "output_type": "stream",
     "text": [
      "Epoch [25/50]: Loss: 0.1316148875390782, Val Loss: 0.13055852353572844 Train Pixel Acc: 0.9438721967331709, Val Pixel Acc: 0.9403224530250534\n"
     ]
    },
    {
     "name": "stderr",
     "output_type": "stream",
     "text": [
      "                                                                                                                                \r"
     ]
    },
    {
     "name": "stdout",
     "output_type": "stream",
     "text": [
      "Epoch [26/50]: Loss: 0.12730618873063257, Val Loss: 0.13631467074155806 Train Pixel Acc: 0.9449186996102079, Val Pixel Acc: 0.9410646167282212\n"
     ]
    },
    {
     "name": "stderr",
     "output_type": "stream",
     "text": [
      "                                                                                                                                \r"
     ]
    },
    {
     "name": "stdout",
     "output_type": "stream",
     "text": [
      "Epoch [27/50]: Loss: 0.12291787783889209, Val Loss: 0.1294463261961937 Train Pixel Acc: 0.9462651169376333, Val Pixel Acc: 0.9424089890153823\n"
     ]
    },
    {
     "name": "stderr",
     "output_type": "stream",
     "text": [
      "                                                                                                                                \r"
     ]
    },
    {
     "name": "stdout",
     "output_type": "stream",
     "text": [
      "Epoch [28/50]: Loss: 0.1243660454364384, Val Loss: 0.13715610057115554 Train Pixel Acc: 0.9408989684668176, Val Pixel Acc: 0.9367270491452178\n"
     ]
    },
    {
     "name": "stderr",
     "output_type": "stream",
     "text": [
      "                                                                                                                                \r"
     ]
    },
    {
     "name": "stdout",
     "output_type": "stream",
     "text": [
      "Epoch [29/50]: Loss: 0.12822363613282933, Val Loss: 0.12559979259967805 Train Pixel Acc: 0.9445007677452978, Val Pixel Acc: 0.9403270636612854\n"
     ]
    },
    {
     "name": "stderr",
     "output_type": "stream",
     "text": [
      "                                                                                                                                \r"
     ]
    },
    {
     "name": "stdout",
     "output_type": "stream",
     "text": [
      "Epoch [30/50]: Loss: 0.12259065754273359, Val Loss: 0.13121973127126693 Train Pixel Acc: 0.9467252881796375, Val Pixel Acc: 0.9427512172079653\n"
     ]
    },
    {
     "name": "stderr",
     "output_type": "stream",
     "text": [
      "                                                                                                                                \r"
     ]
    },
    {
     "name": "stdout",
     "output_type": "stream",
     "text": [
      "Epoch [31/50]: Loss: 0.12093361510949976, Val Loss: 0.13374169915914536 Train Pixel Acc: 0.9476084481133872, Val Pixel Acc: 0.9437303081213829\n"
     ]
    },
    {
     "name": "stderr",
     "output_type": "stream",
     "text": [
      "                                                                                                                                \r"
     ]
    },
    {
     "name": "stdout",
     "output_type": "stream",
     "text": [
      "Epoch [32/50]: Loss: 0.12169162271653905, Val Loss: 0.11195465251803398 Train Pixel Acc: 0.9466631561381549, Val Pixel Acc: 0.9428243924668748\n"
     ]
    },
    {
     "name": "stderr",
     "output_type": "stream",
     "text": [
      "                                                                                                                                \r"
     ]
    },
    {
     "name": "stdout",
     "output_type": "stream",
     "text": [
      "Epoch [33/50]: Loss: 0.11916354999822729, Val Loss: 0.14000791758298875 Train Pixel Acc: 0.9473755366185653, Val Pixel Acc: 0.9436187604706061\n"
     ]
    },
    {
     "name": "stderr",
     "output_type": "stream",
     "text": [
      "                                                                                                                                \r"
     ]
    },
    {
     "name": "stdout",
     "output_type": "stream",
     "text": [
      "Epoch [34/50]: Loss: 0.12007978646194234, Val Loss: 0.1366507202386856 Train Pixel Acc: 0.9483475256648835, Val Pixel Acc: 0.9444101538703168\n"
     ]
    },
    {
     "name": "stderr",
     "output_type": "stream",
     "text": [
      "                                                                                                                                \r"
     ]
    },
    {
     "name": "stdout",
     "output_type": "stream",
     "text": [
      "Epoch [35/50]: Loss: 0.11990882280994863, Val Loss: 0.13344667553901673 Train Pixel Acc: 0.9476322077630026, Val Pixel Acc: 0.9437694241642552\n"
     ]
    },
    {
     "name": "stderr",
     "output_type": "stream",
     "text": [
      "                                                                                                                                \r"
     ]
    },
    {
     "name": "stdout",
     "output_type": "stream",
     "text": [
      "Epoch [36/50]: Loss: 0.1189553496592185, Val Loss: 0.14765135049819947 Train Pixel Acc: 0.9422093559030422, Val Pixel Acc: 0.9376424835325922\n"
     ]
    },
    {
     "name": "stderr",
     "output_type": "stream",
     "text": [
      "                                                                                                                                \r"
     ]
    },
    {
     "name": "stdout",
     "output_type": "stream",
     "text": [
      "Epoch [37/50]: Loss: 0.11993590961484348, Val Loss: 0.12762753218412398 Train Pixel Acc: 0.9486368430884481, Val Pixel Acc: 0.9446423217141334\n"
     ]
    },
    {
     "name": "stderr",
     "output_type": "stream",
     "text": [
      "                                                                                                                                \r"
     ]
    },
    {
     "name": "stdout",
     "output_type": "stream",
     "text": [
      "Epoch [38/50]: Loss: 0.1166841216823634, Val Loss: 0.11824395805597306 Train Pixel Acc: 0.9459053757638783, Val Pixel Acc: 0.9419213026861865\n"
     ]
    },
    {
     "name": "stderr",
     "output_type": "stream",
     "text": [
      "                                                                                                                                \r"
     ]
    },
    {
     "name": "stdout",
     "output_type": "stream",
     "text": [
      "Epoch [39/50]: Loss: 0.11717037856578827, Val Loss: 0.13151010274887084 Train Pixel Acc: 0.9489905606890611, Val Pixel Acc: 0.9451332801077521\n"
     ]
    },
    {
     "name": "stderr",
     "output_type": "stream",
     "text": [
      "                                                                                                                                \r"
     ]
    },
    {
     "name": "stdout",
     "output_type": "stream",
     "text": [
      "Epoch [40/50]: Loss: 0.11908759439692777, Val Loss: 0.1313391163945198 Train Pixel Acc: 0.9469493130449474, Val Pixel Acc: 0.9431651333574474\n"
     ]
    },
    {
     "name": "stderr",
     "output_type": "stream",
     "text": [
      "                                                                                                                                \r"
     ]
    },
    {
     "name": "stdout",
     "output_type": "stream",
     "text": [
      "Epoch [41/50]: Loss: 0.11784080459791071, Val Loss: 0.11678068041801452 Train Pixel Acc: 0.9479146464147693, Val Pixel Acc: 0.944168764754036\n"
     ]
    },
    {
     "name": "stderr",
     "output_type": "stream",
     "text": [
      "                                                                                                                                \r"
     ]
    },
    {
     "name": "stdout",
     "output_type": "stream",
     "text": [
      "Epoch [42/50]: Loss: 0.11694401809397865, Val Loss: 0.13531197011470794 Train Pixel Acc: 0.9463105911965999, Val Pixel Acc: 0.9423239153403898\n"
     ]
    },
    {
     "name": "stderr",
     "output_type": "stream",
     "text": [
      "                                                                                                                                \r"
     ]
    },
    {
     "name": "stdout",
     "output_type": "stream",
     "text": [
      "Epoch [43/50]: Loss: 0.11736114235485301, Val Loss: 0.11615613847970963 Train Pixel Acc: 0.9471489461572875, Val Pixel Acc: 0.9429374274196619\n"
     ]
    },
    {
     "name": "stderr",
     "output_type": "stream",
     "text": [
      "                                                                                                                                \r"
     ]
    },
    {
     "name": "stdout",
     "output_type": "stream",
     "text": [
      "Epoch [44/50]: Loss: 0.11632003196898628, Val Loss: 0.11473029851913452 Train Pixel Acc: 0.9496992972795462, Val Pixel Acc: 0.9457021731267133\n"
     ]
    },
    {
     "name": "stderr",
     "output_type": "stream",
     "text": [
      "                                                                                                                                \r"
     ]
    },
    {
     "name": "stdout",
     "output_type": "stream",
     "text": [
      "Epoch [45/50]: Loss: 0.11655755078091341, Val Loss: 0.12709921598434448 Train Pixel Acc: 0.9458630620216837, Val Pixel Acc: 0.9419678552391105\n"
     ]
    },
    {
     "name": "stderr",
     "output_type": "stream",
     "text": [
      "                                                                                                                                \r"
     ]
    },
    {
     "name": "stdout",
     "output_type": "stream",
     "text": [
      "Epoch [46/50]: Loss: 0.12055186752010794, Val Loss: 0.12927841395139694 Train Pixel Acc: 0.9457119149548812, Val Pixel Acc: 0.9416631070571886\n"
     ]
    },
    {
     "name": "stderr",
     "output_type": "stream",
     "text": [
      "                                                                                                                                \r"
     ]
    },
    {
     "name": "stdout",
     "output_type": "stream",
     "text": [
      "Epoch [47/50]: Loss: 0.11972789860823575, Val Loss: 0.1301477760076523 Train Pixel Acc: 0.9465666302376827, Val Pixel Acc: 0.9426987154469997\n"
     ]
    },
    {
     "name": "stderr",
     "output_type": "stream",
     "text": [
      "                                                                                                                                \r"
     ]
    },
    {
     "name": "stdout",
     "output_type": "stream",
     "text": [
      "Epoch [48/50]: Loss: 0.11931668178123586, Val Loss: 0.14465299844741822 Train Pixel Acc: 0.9450023975308407, Val Pixel Acc: 0.9413790323732105\n"
     ]
    },
    {
     "name": "stderr",
     "output_type": "stream",
     "text": [
      "                                                                                                                                \r"
     ]
    },
    {
     "name": "stdout",
     "output_type": "stream",
     "text": [
      "Epoch [49/50]: Loss: 0.1174154198345016, Val Loss: 0.1153539314866066 Train Pixel Acc: 0.9494033241794853, Val Pixel Acc: 0.9454930584640573\n"
     ]
    },
    {
     "name": "stderr",
     "output_type": "stream",
     "text": [
      "                                                                                                                                \r"
     ]
    },
    {
     "name": "stdout",
     "output_type": "stream",
     "text": [
      "Epoch [50/50]: Loss: 0.11559470173190622, Val Loss: 0.11951607018709183 Train Pixel Acc: 0.9498701510979858, Val Pixel Acc: 0.9458479287237282\n"
     ]
    }
   ],
   "source": [
    "vcn16_trainer.train()"
   ]
  },
  {
   "cell_type": "code",
   "execution_count": 14,
   "id": "438d3ba7-b53c-4a65-b1b9-c0fa3ae085ae",
   "metadata": {
    "tags": []
   },
   "outputs": [],
   "source": [
    "vcn8_trainer = VCNTrainer(\n",
    "    model=vcn8,\n",
    "    criterion=cross_entropy,\n",
    "    train_loader=train_loader,\n",
    "    val_loader=val_loader,\n",
    "    optimizer=vcn8_optimizer,\n",
    "    epochs=EPOCHS,\n",
    "    device=DEVICE,\n",
    "    checkpoint=\"vcn8.pth\"\n",
    ")"
   ]
  },
  {
   "cell_type": "code",
   "execution_count": null,
   "id": "2a8b1e83-2380-427a-96d9-6ce5e2135fe6",
   "metadata": {
    "tags": []
   },
   "outputs": [
    {
     "name": "stderr",
     "output_type": "stream",
     "text": [
      "                                                                                                                             \r"
     ]
    },
    {
     "name": "stdout",
     "output_type": "stream",
     "text": [
      "Epoch [1/50]: Loss: 0.634030983728521, Val Loss: 0.5426239013671875 Train Pixel Acc: 0.7366304191336049, Val Pixel Acc: 0.7354941947627932\n"
     ]
    },
    {
     "name": "stderr",
     "output_type": "stream",
     "text": [
      "                                                                                                                               \r"
     ]
    },
    {
     "name": "stdout",
     "output_type": "stream",
     "text": [
      "Epoch [2/50]: Loss: 0.4372614516931422, Val Loss: 0.33021549582481385 Train Pixel Acc: 0.8475095648392286, Val Pixel Acc: 0.844463607504569\n"
     ]
    },
    {
     "name": "stderr",
     "output_type": "stream",
     "text": [
      "                                                                                                                               \r"
     ]
    },
    {
     "name": "stdout",
     "output_type": "stream",
     "text": [
      "Epoch [3/50]: Loss: 0.27022936940193176, Val Loss: 0.22878174781799315 Train Pixel Acc: 0.8928872607228526, Val Pixel Acc: 0.8896756551267895\n"
     ]
    },
    {
     "name": "stderr",
     "output_type": "stream",
     "text": [
      "                                                                                                                               \r"
     ]
    },
    {
     "name": "stdout",
     "output_type": "stream",
     "text": [
      "Epoch [4/50]: Loss: 0.19796228759429035, Val Loss: 0.17424654066562653 Train Pixel Acc: 0.9200325674521208, Val Pixel Acc: 0.9178030645560463\n"
     ]
    },
    {
     "name": "stderr",
     "output_type": "stream",
     "text": [
      "                                                                                                                               \r"
     ]
    },
    {
     "name": "stdout",
     "output_type": "stream",
     "text": [
      "Epoch [5/50]: Loss: 0.16628255870412378, Val Loss: 0.14989244043827057 Train Pixel Acc: 0.9299951484208422, Val Pixel Acc: 0.9286118831861102\n"
     ]
    },
    {
     "name": "stderr",
     "output_type": "stream",
     "text": [
      "                                                                                                                               \r"
     ]
    },
    {
     "name": "stdout",
     "output_type": "stream",
     "text": [
      "Epoch [6/50]: Loss: 0.14844557379975037, Val Loss: 0.15182829797267913 Train Pixel Acc: 0.9389317884628199, Val Pixel Acc: 0.9368970477650015\n"
     ]
    },
    {
     "name": "stderr",
     "output_type": "stream",
     "text": [
      "                                                                                                                               \r"
     ]
    },
    {
     "name": "stdout",
     "output_type": "stream",
     "text": [
      "Epoch [7/50]: Loss: 0.13690950283232858, Val Loss: 0.14894015341997147 Train Pixel Acc: 0.9418545971910219, Val Pixel Acc: 0.9403809039940603\n"
     ]
    },
    {
     "name": "stderr",
     "output_type": "stream",
     "text": [
      "                                                                                                                               \r"
     ]
    },
    {
     "name": "stdout",
     "output_type": "stream",
     "text": [
      "Epoch [8/50]: Loss: 0.1263954271288479, Val Loss: 0.12252689152956009 Train Pixel Acc: 0.94720100172765, Val Pixel Acc: 0.9457023218569144\n"
     ]
    },
    {
     "name": "stderr",
     "output_type": "stream",
     "text": [
      "                                                                                                                               \r"
     ]
    },
    {
     "name": "stdout",
     "output_type": "stream",
     "text": [
      "Epoch [9/50]: Loss: 0.12108413918929942, Val Loss: 0.1209284245967865 Train Pixel Acc: 0.9499632190212839, Val Pixel Acc: 0.9487157444600974\n"
     ]
    },
    {
     "name": "stderr",
     "output_type": "stream",
     "text": [
      "                                                                                                                                \r"
     ]
    },
    {
     "name": "stdout",
     "output_type": "stream",
     "text": [
      "Epoch [10/50]: Loss: 0.11431681846871096, Val Loss: 0.11157227754592895 Train Pixel Acc: 0.9516841018123667, Val Pixel Acc: 0.9508821485683826\n"
     ]
    },
    {
     "name": "stderr",
     "output_type": "stream",
     "text": [
      "                                                                                                                                \r"
     ]
    },
    {
     "name": "stdout",
     "output_type": "stream",
     "text": [
      "Epoch [11/50]: Loss: 0.11213563864721972, Val Loss: 0.11346977204084396 Train Pixel Acc: 0.9524842331113882, Val Pixel Acc: 0.951944082203777\n"
     ]
    },
    {
     "name": "stderr",
     "output_type": "stream",
     "text": [
      "                                                                                                                                \r"
     ]
    },
    {
     "name": "stdout",
     "output_type": "stream",
     "text": [
      "Epoch [12/50]: Loss: 0.10887329630991992, Val Loss: 0.10498742014169693 Train Pixel Acc: 0.954688637786038, Val Pixel Acc: 0.9533167132291349\n"
     ]
    },
    {
     "name": "stderr",
     "output_type": "stream",
     "text": [
      "                                                                                                                                \r"
     ]
    },
    {
     "name": "stdout",
     "output_type": "stream",
     "text": [
      "Epoch [13/50]: Loss: 0.10500240106793012, Val Loss: 0.11220300197601318 Train Pixel Acc: 0.9556005026485874, Val Pixel Acc: 0.9543927762336277\n"
     ]
    },
    {
     "name": "stderr",
     "output_type": "stream",
     "text": [
      "                                                                                                                                \r"
     ]
    },
    {
     "name": "stdout",
     "output_type": "stream",
     "text": [
      "Epoch [14/50]: Loss: 0.1047153709565892, Val Loss: 0.10103074163198471 Train Pixel Acc: 0.9542128870554751, Val Pixel Acc: 0.952674347490862\n"
     ]
    },
    {
     "name": "stderr",
     "output_type": "stream",
     "text": [
      "                                                                                                                                \r"
     ]
    },
    {
     "name": "stdout",
     "output_type": "stream",
     "text": [
      "Epoch [15/50]: Loss: 0.10776735140996821, Val Loss: 0.12378252297639847 Train Pixel Acc: 0.9520333946894989, Val Pixel Acc: 0.9500859958022388\n"
     ]
    },
    {
     "name": "stderr",
     "output_type": "stream",
     "text": [
      "                                                                                                                                \r"
     ]
    },
    {
     "name": "stdout",
     "output_type": "stream",
     "text": [
      "Epoch [16/50]: Loss: 0.10690251036601908, Val Loss: 0.10446956157684326 Train Pixel Acc: 0.9556574291330339, Val Pixel Acc: 0.9550937416711087\n"
     ]
    },
    {
     "name": "stderr",
     "output_type": "stream",
     "text": [
      "                                                                                                                                \r"
     ]
    },
    {
     "name": "stdout",
     "output_type": "stream",
     "text": [
      "Epoch [17/50]: Loss: 0.1036278206635924, Val Loss: 0.09855061173439025 Train Pixel Acc: 0.9560697464328548, Val Pixel Acc: 0.9546087324855316\n"
     ]
    },
    {
     "name": "stderr",
     "output_type": "stream",
     "text": [
      "                                                                                                                                \r"
     ]
    },
    {
     "name": "stdout",
     "output_type": "stream",
     "text": [
      "Epoch [18/50]: Loss: 0.10136363041751525, Val Loss: 0.09587967097759247 Train Pixel Acc: 0.9584004974132844, Val Pixel Acc: 0.9575223571238197\n"
     ]
    },
    {
     "name": "stderr",
     "output_type": "stream",
     "text": [
      "                                                                                                                                \r"
     ]
    },
    {
     "name": "stdout",
     "output_type": "stream",
     "text": [
      "Epoch [19/50]: Loss: 0.09821278470404007, Val Loss: 0.09947824329137803 Train Pixel Acc: 0.958767080176287, Val Pixel Acc: 0.9574679218702407\n"
     ]
    },
    {
     "name": "stderr",
     "output_type": "stream",
     "text": [
      "                                                                                                                                \r"
     ]
    },
    {
     "name": "stdout",
     "output_type": "stream",
     "text": [
      "Epoch [20/50]: Loss: 0.0977903565063196, Val Loss: 0.09743144065141678 Train Pixel Acc: 0.9588095798312328, Val Pixel Acc: 0.9578999831042492\n"
     ]
    },
    {
     "name": "stderr",
     "output_type": "stream",
     "text": [
      "                                                                                                                                \r"
     ]
    },
    {
     "name": "stdout",
     "output_type": "stream",
     "text": [
      "Epoch [21/50]: Loss: 0.09915606063954971, Val Loss: 0.10606753528118133 Train Pixel Acc: 0.9592992368355925, Val Pixel Acc: 0.9579321088276729\n"
     ]
    },
    {
     "name": "stderr",
     "output_type": "stream",
     "text": [
      "                                                                                                                                \r"
     ]
    },
    {
     "name": "stdout",
     "output_type": "stream",
     "text": [
      "Epoch [22/50]: Loss: 0.0975279895698323, Val Loss: 0.09287192448973655 Train Pixel Acc: 0.9577275676186986, Val Pixel Acc: 0.9561815543614834\n"
     ]
    },
    {
     "name": "stderr",
     "output_type": "stream",
     "text": [
      "                                                                                                                                \r"
     ]
    },
    {
     "name": "stdout",
     "output_type": "stream",
     "text": [
      "Epoch [23/50]: Loss: 0.0969749325338532, Val Loss: 0.09675932824611663 Train Pixel Acc: 0.9596965323851089, Val Pixel Acc: 0.9584545980239111\n"
     ]
    },
    {
     "name": "stderr",
     "output_type": "stream",
     "text": [
      "                                                                                                                                \r"
     ]
    },
    {
     "name": "stdout",
     "output_type": "stream",
     "text": [
      "Epoch [24/50]: Loss: 0.09669556381071315, Val Loss: 0.09471177607774735 Train Pixel Acc: 0.9589606897154851, Val Pixel Acc: 0.957653239700731\n"
     ]
    },
    {
     "name": "stderr",
     "output_type": "stream",
     "text": [
      "                                                                                                                                \r"
     ]
    },
    {
     "name": "stdout",
     "output_type": "stream",
     "text": [
      "Epoch [25/50]: Loss: 0.09681756794452667, Val Loss: 0.0970100924372673 Train Pixel Acc: 0.9579440816088562, Val Pixel Acc: 0.9568200531145294\n"
     ]
    },
    {
     "name": "stderr",
     "output_type": "stream",
     "text": [
      "                                                                                                                                \r"
     ]
    },
    {
     "name": "stdout",
     "output_type": "stream",
     "text": [
      "Epoch [26/50]: Loss: 0.09645324222305242, Val Loss: 0.09968879073858261 Train Pixel Acc: 0.9604056036185463, Val Pixel Acc: 0.9592494122182456\n"
     ]
    },
    {
     "name": "stderr",
     "output_type": "stream",
     "text": [
      "                                                                                                                                \r"
     ]
    },
    {
     "name": "stdout",
     "output_type": "stream",
     "text": [
      "Epoch [27/50]: Loss: 0.09481921353760887, Val Loss: 0.09849879890680313 Train Pixel Acc: 0.9586067118370203, Val Pixel Acc: 0.9580540675925221\n"
     ]
    },
    {
     "name": "stderr",
     "output_type": "stream",
     "text": [
      "                                                                                                                                \r"
     ]
    },
    {
     "name": "stdout",
     "output_type": "stream",
     "text": [
      "Epoch [28/50]: Loss: 0.09590837534736185, Val Loss: 0.10542826056480407 Train Pixel Acc: 0.953573644651424, Val Pixel Acc: 0.9514958093778556\n"
     ]
    },
    {
     "name": "stderr",
     "output_type": "stream",
     "text": [
      "                                                                                                                                \r"
     ]
    },
    {
     "name": "stdout",
     "output_type": "stream",
     "text": [
      "Epoch [29/50]: Loss: 0.09682326939176111, Val Loss: 0.09077839255332946 Train Pixel Acc: 0.9604887438009252, Val Pixel Acc: 0.9592467350746269\n"
     ]
    },
    {
     "name": "stderr",
     "output_type": "stream",
     "text": [
      "                                                                                                                                \r"
     ]
    },
    {
     "name": "stdout",
     "output_type": "stream",
     "text": [
      "Epoch [30/50]: Loss: 0.09370322174885694, Val Loss: 0.0987488642334938 Train Pixel Acc: 0.9607973217855239, Val Pixel Acc: 0.9596154372429943\n"
     ]
    },
    {
     "name": "stderr",
     "output_type": "stream",
     "text": [
      "                                                                                                                                \r"
     ]
    },
    {
     "name": "stdout",
     "output_type": "stream",
     "text": [
      "Epoch [31/50]: Loss: 0.09380000172292485, Val Loss: 0.10151908844709397 Train Pixel Acc: 0.9608826557383681, Val Pixel Acc: 0.9596154372429943\n"
     ]
    },
    {
     "name": "stderr",
     "output_type": "stream",
     "text": [
      "                                                                                                                                \r"
     ]
    },
    {
     "name": "stdout",
     "output_type": "stream",
     "text": [
      "Epoch [32/50]: Loss: 0.09458155272638097, Val Loss: 0.0850674569606781 Train Pixel Acc: 0.9609456429785067, Val Pixel Acc: 0.9603199722053001\n"
     ]
    },
    {
     "name": "stderr",
     "output_type": "stream",
     "text": [
      "                                                                                                                                \r"
     ]
    },
    {
     "name": "stdout",
     "output_type": "stream",
     "text": [
      "Epoch [33/50]: Loss: 0.09442624055287417, Val Loss: 0.10971958786249161 Train Pixel Acc: 0.9604495162104021, Val Pixel Acc: 0.9593368655764545\n"
     ]
    },
    {
     "name": "stderr",
     "output_type": "stream",
     "text": [
      "                                                                                                                                \r"
     ]
    },
    {
     "name": "stdout",
     "output_type": "stream",
     "text": [
      "Epoch [34/50]: Loss: 0.0950268393053728, Val Loss: 0.10376186817884445 Train Pixel Acc: 0.9605074094411552, Val Pixel Acc: 0.959877499857219\n"
     ]
    },
    {
     "name": "stderr",
     "output_type": "stream",
     "text": [
      "                                                                                                                                \r"
     ]
    },
    {
     "name": "stdout",
     "output_type": "stream",
     "text": [
      "Epoch [35/50]: Loss: 0.09346580110928591, Val Loss: 0.10219775140285492 Train Pixel Acc: 0.9594836994674268, Val Pixel Acc: 0.9593713709830948\n"
     ]
    },
    {
     "name": "stderr",
     "output_type": "stream",
     "text": [
      "                                                                                                                                \r"
     ]
    },
    {
     "name": "stdout",
     "output_type": "stream",
     "text": [
      "Epoch [36/50]: Loss: 0.09347579672056086, Val Loss: 0.09935732483863831 Train Pixel Acc: 0.9615967094335403, Val Pixel Acc: 0.9607370116890039\n"
     ]
    },
    {
     "name": "stderr",
     "output_type": "stream",
     "text": [
      "                                                                                                                                \r"
     ]
    },
    {
     "name": "stdout",
     "output_type": "stream",
     "text": [
      "Epoch [37/50]: Loss: 0.09129259209422504, Val Loss: 0.09643123894929886 Train Pixel Acc: 0.9620893410419205, Val Pixel Acc: 0.9611696678438166\n"
     ]
    },
    {
     "name": "stderr",
     "output_type": "stream",
     "text": [
      "                                                                                                                                \r"
     ]
    },
    {
     "name": "stdout",
     "output_type": "stream",
     "text": [
      "Epoch [38/50]: Loss: 0.09076580646283486, Val Loss: 0.08961896225810051 Train Pixel Acc: 0.9599966699307988, Val Pixel Acc: 0.958662969035562\n"
     ]
    },
    {
     "name": "stderr",
     "output_type": "stream",
     "text": [
      "                                                                                                                                \r"
     ]
    },
    {
     "name": "stdout",
     "output_type": "stream",
     "text": [
      "Epoch [39/50]: Loss: 0.09110471365206382, Val Loss: 0.10868984758853913 Train Pixel Acc: 0.9590244206066288, Val Pixel Acc: 0.9580977942716266\n"
     ]
    },
    {
     "name": "stderr",
     "output_type": "stream",
     "text": [
      "                                                                                                                                \r"
     ]
    },
    {
     "name": "stdout",
     "output_type": "stream",
     "text": [
      "Epoch [40/50]: Loss: 0.09118832121877109, Val Loss: 0.09352353513240814 Train Pixel Acc: 0.9625434887107828, Val Pixel Acc: 0.9615835839932988\n"
     ]
    },
    {
     "name": "stderr",
     "output_type": "stream",
     "text": [
      "                                                                                                                                \r"
     ]
    },
    {
     "name": "stdout",
     "output_type": "stream",
     "text": [
      "Epoch [41/50]: Loss: 0.09043458717710831, Val Loss: 0.0849359929561615 Train Pixel Acc: 0.9627105499090961, Val Pixel Acc: 0.9617416841969997\n"
     ]
    },
    {
     "name": "stderr",
     "output_type": "stream",
     "text": [
      "                                                                                                                                \r"
     ]
    },
    {
     "name": "stdout",
     "output_type": "stream",
     "text": [
      "Epoch [42/50]: Loss: 0.0917644342955421, Val Loss: 0.09776925146579743 Train Pixel Acc: 0.9629680018870888, Val Pixel Acc: 0.9622649170442431\n"
     ]
    },
    {
     "name": "stderr",
     "output_type": "stream",
     "text": [
      "                                                                                                                                \r"
     ]
    },
    {
     "name": "stdout",
     "output_type": "stream",
     "text": [
      "Epoch [43/50]: Loss: 0.09019062624258153, Val Loss: 0.08756256848573685 Train Pixel Acc: 0.9609478739315223, Val Pixel Acc: 0.9597592593473957\n"
     ]
    },
    {
     "name": "stderr",
     "output_type": "stream",
     "text": [
      "Epoch [49/50]:  88%|████████▊ | 15/17 [02:26<00:19,  9.69s/it, summary=Loss: 0.06888018548488617, Val Loss: 0.08653964549303055]"
     ]
    }
   ],
   "source": [
    "vcn8_trainer.train()"
   ]
  },
  {
   "cell_type": "markdown",
   "id": "55c2e5ab-1a7e-444e-9528-5ff655f7a2fc",
   "metadata": {},
   "source": [
    "## Evaluation"
   ]
  },
  {
   "cell_type": "code",
   "execution_count": 12,
   "id": "0b5995fe-5b29-4a51-8776-b66d58a3cf4e",
   "metadata": {
    "tags": []
   },
   "outputs": [],
   "source": [
    "# load checkpoints\n",
    "vcn32_checkpoint = torch.load(\"vcn32.pth\", map_location=DEVICE)\n",
    "vcn16_checkpoint = torch.load(\"vcn16.pth\", map_location=DEVICE)\n",
    "vcn8_checkpoint = torch.load(\"vcn8.pth\", map_location=DEVICE)"
   ]
  },
  {
   "cell_type": "code",
   "execution_count": 13,
   "id": "12261ddd-0281-438c-a532-00c815253b00",
   "metadata": {
    "tags": []
   },
   "outputs": [],
   "source": [
    "iterations = vcn32_checkpoint[\"iterations\"]\n",
    "epochs = vcn32_checkpoint[\"epochs\"]"
   ]
  },
  {
   "cell_type": "code",
   "execution_count": 28,
   "id": "fa780ea6-6b01-4d71-a6b7-28c68d24aad1",
   "metadata": {},
   "outputs": [
    {
     "data": {
      "image/png": "[encoded data removed]",
      "text/plain": [
       "<Figure size 1500x500 with 3 Axes>"
      ]
     },
     "metadata": {},
     "output_type": "display_data"
    }
   ],
   "source": [
    "# display training losses vs. iterations\n",
    "fig, axes = plt.subplots(1, 3, figsize=(15, 5))  # 1 row, 3 columns\n",
    "\n",
    "vcn32_train_losses = vcn32_checkpoint[\"train_losses\"]\n",
    "vcn32_val_losses = vcn32_checkpoint[\"val_losses\"]\n",
    "\n",
    "vcn16_train_losses = vcn16_checkpoint[\"train_losses\"]\n",
    "vcn16_val_losses = vcn16_checkpoint[\"val_losses\"]\n",
    "\n",
    "vcn8_train_losses = vcn8_checkpoint[\"train_losses\"]\n",
    "vcn8_val_losses = vcn8_checkpoint[\"val_losses\"]\n",
    "\n",
    "x = range(iterations)\n",
    "\n",
    "models = [\"FCN32\", \"FCN16\", \"FCN8\"]\n",
    "losses = [\n",
    "    (vcn32_train_losses, vcn32_val_losses),\n",
    "    (vcn16_train_losses, vcn16_val_losses),\n",
    "    (vcn8_train_losses, vcn8_val_losses)\n",
    "]\n",
    "\n",
    "for i in range(3):\n",
    "    model = models[i]\n",
    "    train_losses, val_losses = losses[i]\n",
    "    \n",
    "    axes[i].plot(x, train_losses, label=\"train loss\")\n",
    "    axes[i].plot(x, val_losses, label=\"val loss\")\n",
    "    axes[i].set_title(model + \" Loss\")\n",
    "    axes[i].set_ylabel(\"Loss\")\n",
    "    axes[i].set_xlabel(\"Iterations\")\n",
    "\n",
    "plt.tight_layout()  # Ensures proper spacing between subplots"
   ]
  },
  {
   "cell_type": "code",
   "execution_count": 29,
   "id": "242665d2-8beb-4683-9c91-24b584821e01",
   "metadata": {
    "tags": []
   },
   "outputs": [
    {
     "data": {
      "image/png": "[encoded data removed]",
      "text/plain": [
       "<Figure size 1500x500 with 3 Axes>"
      ]
     },
     "metadata": {},
     "output_type": "display_data"
    }
   ],
   "source": [
    "# display pixel accuracy vs. epochs\n",
    "fig, axes = plt.subplots(1, 3, figsize=(15, 5))  # 1 row, 3 columns\n",
    "\n",
    "vcn32_train_pix_acc = vcn32_checkpoint[\"train_pixel_accuracies\"]\n",
    "vcn32_val_pix_acc = vcn32_checkpoint[\"val_pixel_accuracies\"]\n",
    "\n",
    "vcn16_train_pix_acc = vcn16_checkpoint[\"train_pixel_accuracies\"]\n",
    "vcn16_val_pix_acc = vcn16_checkpoint[\"val_pixel_accuracies\"]\n",
    "\n",
    "vcn8_train_pix_acc = vcn8_checkpoint[\"train_pixel_accuracies\"]\n",
    "vcn8_val_pix_acc = vcn8_checkpoint[\"val_pixel_accuracies\"]\n",
    "\n",
    "x = range(epochs)\n",
    "\n",
    "pix_acc = [\n",
    "    (vcn32_train_pix_acc, vcn32_val_pix_acc),\n",
    "    (vcn16_train_pix_acc, vcn16_val_pix_acc),\n",
    "    (vcn8_train_pix_acc, vcn8_val_pix_acc)\n",
    "]\n",
    "\n",
    "for i in range(3):\n",
    "    model = models[i]\n",
    "    train_pix_acc, val_pix_acc = pix_acc[i]\n",
    "    \n",
    "    axes[i].plot(x, train_pix_acc, label=\"train pixel accuracy\")\n",
    "    axes[i].plot(x, val_pix_acc, label=\"val pixel accuracy\")\n",
    "    axes[i].set_title(model + \" Pixel Accuracy\")\n",
    "    axes[i].set_ylabel(\"Pixel Accuracy\")\n",
    "    axes[i].set_xlabel(\"Epochs\")\n",
    "\n",
    "plt.tight_layout()  # Ensures proper spacing between subplots"
   ]
  },
  {
   "cell_type": "code",
   "execution_count": 27,
   "id": "d98abd73-0060-4942-be12-375d69d21dc7",
   "metadata": {},
   "outputs": [],
   "source": [
    "# validation pixel accuracy, mean accuracy, mean IU, f.w. IU\n",
    "vcn32.load_state_dict(vcn32_checkpoint[\"state_dict\"])\n",
    "vcn16.load_state_dict(vcn16_checkpoint[\"state_dict\"])\n",
    "vcn8.load_state_dict(vcn8_checkpoint[\"state_dict\"])\n",
    "\n",
    "def get_evals(model, dataloader):\n",
    "    model.eval()\n",
    "    model.to(DEVICE)\n",
    "    pixel_accuracy = evals.pixel_accuracy(model, dataloader)\n",
    "    mean_accuracy = evals.mean_accuracy(model, dataloader)\n",
    "    mean_IU = evals.mean_IU(model, dataloader)\n",
    "    frequency_weighted_IU = evals.frequency_weighted_IU(model, dataloader)\n",
    "\n",
    "    return pixel_accuracy, mean_accuracy, mean_IU, frequency_weighted_IU\n",
    "\n",
    "vcn32_evals = get_evals(vcn32, val_loader)\n",
    "vcn16_evals = get_evals(vcn16, val_loader)\n",
    "vcn8_evals = get_evals(vcn8, val_loader)"
   ]
  },
  {
   "cell_type": "code",
   "execution_count": 32,
   "id": "373f7e3b-c129-4686-81c4-e851602ed8cd",
   "metadata": {},
   "outputs": [
    {
     "data": {
      "text/html": [
       "<div>\n",
       "<style scoped>\n",
       "    .dataframe tbody tr th:only-of-type {\n",
       "        vertical-align: middle;\n",
       "    }\n",
       "\n",
       "    .dataframe tbody tr th {\n",
       "        vertical-align: top;\n",
       "    }\n",
       "\n",
       "    .dataframe thead th {\n",
       "        text-align: right;\n",
       "    }\n",
       "</style>\n",
       "<table border=\"1\" class=\"dataframe\">\n",
       "  <thead>\n",
       "    <tr style=\"text-align: right;\">\n",
       "      <th></th>\n",
       "      <th>Pixel Accuracy</th>\n",
       "      <th>Mean Accuracy</th>\n",
       "      <th>Mean IU</th>\n",
       "      <th>Frequency Weighted IU</th>\n",
       "    </tr>\n",
       "  </thead>\n",
       "  <tbody>\n",
       "    <tr>\n",
       "      <th>FCN32</th>\n",
       "      <td>0.880626</td>\n",
       "      <td>0.681053</td>\n",
       "      <td>0.508039</td>\n",
       "      <td>0.038315</td>\n",
       "    </tr>\n",
       "    <tr>\n",
       "      <th>FCN16</th>\n",
       "      <td>0.945848</td>\n",
       "      <td>0.873729</td>\n",
       "      <td>0.864545</td>\n",
       "      <td>0.043082</td>\n",
       "    </tr>\n",
       "    <tr>\n",
       "      <th>FCN8</th>\n",
       "      <td>0.960866</td>\n",
       "      <td>0.888985</td>\n",
       "      <td>0.833553</td>\n",
       "      <td>0.043249</td>\n",
       "    </tr>\n",
       "  </tbody>\n",
       "</table>\n",
       "</div>"
      ],
      "text/plain": [
       "       Pixel Accuracy  Mean Accuracy   Mean IU  Frequency Weighted IU\n",
       "FCN32        0.880626       0.681053  0.508039               0.038315\n",
       "FCN16        0.945848       0.873729  0.864545               0.043082\n",
       "FCN8         0.960866       0.888985  0.833553               0.043249"
      ]
     },
     "execution_count": 32,
     "metadata": {},
     "output_type": "execute_result"
    }
   ],
   "source": [
    "model_evals = [vcn32_evals, vcn16_evals, vcn8_evals]\n",
    "data = [\n",
    "    {\n",
    "        \"Pixel Accuracy\": model_eval[0],\n",
    "        \"Mean Accuracy\": model_eval[1],\n",
    "        \"Mean IU\": model_eval[2],\n",
    "        \"Frequency Weighted IU\": model_eval[3]\n",
    "    }\n",
    "    for model_eval in model_evals\n",
    "]\n",
    "\n",
    "indices = [\"FCN32\", \"FCN16\", \"FCN8\"]\n",
    "evals_df = pd.DataFrame(data, index=indices)\n",
    "\n",
    "evals_df"
   ]
  },
  {
   "cell_type": "code",
   "execution_count": 98,
   "id": "6c8eaef8-2db6-40e4-907a-cdca568baf5f",
   "metadata": {
    "tags": []
   },
   "outputs": [
    {
     "data": {
      "image/jpeg": "[encoded data removed]",
      "image/png": "[encoded data removed]",
      "text/plain": [
       "<PIL.Image.Image image mode=RGB size=224x224>"
      ]
     },
     "metadata": {},
     "output_type": "display_data"
    },
    {
     "data": {
      "image/png": "[encoded data removed]",
      "text/plain": [
       "<Figure size 2000x500 with 4 Axes>"
      ]
     },
     "metadata": {},
     "output_type": "display_data"
    }
   ],
   "source": [
    "# visualize results vs. ground truth\n",
    "i = 72\n",
    "\n",
    "# 49\n",
    "data = val_set[i]\n",
    "img = data[0]\n",
    "mask = data[1]\n",
    "\n",
    "mean = [0.485, 0.456, 0.406]\n",
    "std = [0.229, 0.224, 0.225]\n",
    "\n",
    "# Define the denormalization transform\n",
    "denormalize = Compose([\n",
    "    Normalize(\n",
    "        mean=[-m / s for m, s in zip(mean, std)],  # Denormalize mean\n",
    "        std=[1 / s for s in std]  # Denormalize standard deviation\n",
    "    ),\n",
    "    ToPILImage()  # Convert tensor back to PIL image\n",
    "])\n",
    "\n",
    "display(denormalize(img))\n",
    "# plt.imshow(mask)\n",
    "\n",
    "def get_mask(model, img):\n",
    "    model = model.to(DEVICE)\n",
    "    img = img.unsqueeze(0).to(DEVICE)\n",
    "    result = model(img)\n",
    "    mask = inference.get_mask(result).squeeze(0)\n",
    "    \n",
    "    return mask\n",
    "\n",
    "fcn32_mask = get_mask(vcn32, img)\n",
    "fcn16_mask = get_mask(vcn16, img)\n",
    "fcn8_mask = get_mask(vcn8, img)\n",
    "\n",
    "masks = [fcn32_mask, fcn16_mask, fcn8_mask, mask]\n",
    "labels = [\"FCN32\", \"FCN16\", \"FCN8\", \"Ground Truth\"]\n",
    "\n",
    "fig, axes = plt.subplots(1, 4, figsize=(20, 5))  # 1 row, 3 columns\n",
    "\n",
    "for i, ax in enumerate(axes):\n",
    "    ax.set_title(labels[i])\n",
    "    ax.imshow(masks[i].cpu(), cmap=\"gray\")"
   ]
  },
  {
   "cell_type": "code",
   "execution_count": null,
   "id": "4436c1d8-0cc0-4ad5-8425-9d1b2da43832",
   "metadata": {},
   "outputs": [],
   "source": []
  }
 ],
 "metadata": {
  "kernelspec": {
   "display_name": "deeplearning:Python",
   "language": "python",
   "name": "conda-env-deeplearning-py"
  },
  "language_info": {
   "codemirror_mode": {
    "name": "ipython",
    "version": 3
   },
   "file_extension": ".py",
   "mimetype": "text/x-python",
   "name": "python",
   "nbconvert_exporter": "python",
   "pygments_lexer": "ipython3",
   "version": "3.9.16"
  }
 },
 "nbformat": 4,
 "nbformat_minor": 5
}
