{
 "cells": [
  {
   "cell_type": "code",
   "execution_count": 1,
   "id": "39381361-4fe1-42d4-94f4-46440cdcbb63",
   "metadata": {
    "tags": []
   },
   "outputs": [],
   "source": [
    "%load_ext autoreload\n",
    "%autoreload 2"
   ]
  },
  {
   "cell_type": "code",
   "execution_count": 33,
   "id": "552ccbd7-38f5-4482-8f10-8815695626d9",
   "metadata": {
    "tags": []
   },
   "outputs": [],
   "source": [
    "import torch\n",
    "from torch.utils.data import DataLoader, random_split\n",
    "from torchvision.transforms import ToTensor, Normalize, Compose, Resize\n",
    "from dataset import SegmentationDataset\n",
    "from models import VCN32, VCN16, VCN8\n",
    "from train import VCNTrainer"
   ]
  },
  {
   "cell_type": "markdown",
   "id": "53189a38-796c-4f6b-8401-e6962d828ad4",
   "metadata": {},
   "source": [
    "# Semantic Segmentation with Fully Convolutional Networks\n",
    "Semantic Segmentation is a task where you look at every pixel of an image and classify it in one of C categories. It's like coloring images in a coloring book. Green for grass. Blue for sky. Yellow for sun. So on and so forth. Training a neural net for semantic segmentation is a much more fancy way of saying \"I'm going to teach an AI to be an expert at coloring within the lines.\"\n",
    "\n",
    "To do this task we'll use a fully convolutional network, a neural net that consists only of convolutional layers with ReLU activations and pooling layers mixed in."
   ]
  },
  {
   "cell_type": "markdown",
   "id": "30fc2bc1-2856-4780-a738-c359435aaea6",
   "metadata": {},
   "source": [
    "## Config"
   ]
  },
  {
   "cell_type": "code",
   "execution_count": null,
   "id": "9cf9d157-aa50-40fa-8308-4042199d77f9",
   "metadata": {},
   "outputs": [],
   "source": []
  },
  {
   "cell_type": "markdown",
   "id": "2de21cc2-d511-40ee-a55d-9139209b9299",
   "metadata": {},
   "source": [
    "## Dataset"
   ]
  },
  {
   "cell_type": "code",
   "execution_count": 16,
   "id": "526599f0-ae93-4e5f-b60c-03676ec96022",
   "metadata": {
    "tags": []
   },
   "outputs": [
    {
     "data": {
      "text/plain": [
       "<torch._C.Generator at 0x7f60f17c50d0>"
      ]
     },
     "execution_count": 16,
     "metadata": {},
     "output_type": "execute_result"
    }
   ],
   "source": [
    "torch.manual_seed(5)"
   ]
  },
  {
   "cell_type": "code",
   "execution_count": 17,
   "id": "06fece8c-f5b9-4572-8d80-21978110f0ee",
   "metadata": {
    "tags": []
   },
   "outputs": [],
   "source": [
    "transform = Compose([\n",
    "    ToTensor(),\n",
    "    Normalize(mean=[0.485, 0.456, 0.406], std=[0.229, 0.224, 0.225]),\n",
    "    Resize((224, 224), antialias=True)\n",
    "])\n",
    "\n",
    "target_transform = Compose([\n",
    "    Resize((224, 224), antialias=True),\n",
    "    lambda x: x[0] # first dimension is unnecessary\n",
    "])"
   ]
  },
  {
   "cell_type": "code",
   "execution_count": 18,
   "id": "a2f68e9d-4846-47da-803c-3ca5ec241679",
   "metadata": {
    "tags": []
   },
   "outputs": [],
   "source": [
    "train_val_set = SegmentationDataset(root=\"data/stage1_train\", train=True, transform=transform, target_transform=target_transform)\n",
    "train_set, val_set = random_split(train_val_set, lengths=[0.8, 0.2]) # 80/20 split\n",
    "test_set = SegmentationDataset(root=\"data/stage1_test\", train=False)"
   ]
  },
  {
   "cell_type": "code",
   "execution_count": 19,
   "id": "0de73059-9c19-4dd7-bfd7-dd165966e6d3",
   "metadata": {
    "tags": []
   },
   "outputs": [
    {
     "name": "stdout",
     "output_type": "stream",
     "text": [
      "train_set size: 536, val_set size: 134, test_set size: 65\n"
     ]
    }
   ],
   "source": [
    "print(f\"train_set size: {len(train_set)}, val_set size: {len(val_set)}, test_set size: {len(test_set)}\")"
   ]
  },
  {
   "cell_type": "code",
   "execution_count": 20,
   "id": "cfcd1eb5-b954-48f6-bbdd-08a5b6a97ee5",
   "metadata": {
    "tags": []
   },
   "outputs": [],
   "source": [
    "BATCH_SIZE = 32\n",
    "\n",
    "train_loader = DataLoader(train_set, batch_size=BATCH_SIZE, shuffle=True)\n",
    "val_loader = DataLoader(val_set, batch_size=BATCH_SIZE, shuffle=True)\n",
    "test_loader = DataLoader(test_set, batch_size=BATCH_SIZE, shuffle=True)"
   ]
  },
  {
   "cell_type": "code",
   "execution_count": 21,
   "id": "a6df4613-07d8-4435-b39a-e8cee7adc562",
   "metadata": {
    "tags": []
   },
   "outputs": [
    {
     "name": "stdout",
     "output_type": "stream",
     "text": [
      "torch.Size([32, 3, 224, 224]) torch.Size([32, 224, 224])\n"
     ]
    }
   ],
   "source": [
    "for (X, Y) in train_loader:\n",
    "    print(X.shape, Y.shape)\n",
    "    break"
   ]
  },
  {
   "cell_type": "markdown",
   "id": "3655f8f6-42a4-41e8-851e-c4b7cc814ff7",
   "metadata": {},
   "source": [
    "## Device"
   ]
  },
  {
   "cell_type": "code",
   "execution_count": 23,
   "id": "73889657-3987-424b-833d-89672953bc40",
   "metadata": {
    "tags": []
   },
   "outputs": [
    {
     "data": {
      "text/plain": [
       "device(type='cuda')"
      ]
     },
     "execution_count": 23,
     "metadata": {},
     "output_type": "execute_result"
    }
   ],
   "source": [
    "device = torch.device(\"cuda\" if torch.cuda.is_available() else \"cpu\")\n",
    "device"
   ]
  },
  {
   "cell_type": "markdown",
   "id": "6c6015ff-dc74-43fd-b778-2ad1360eb386",
   "metadata": {},
   "source": [
    "## Models\n",
    "VCN32, VCN16, and VCN8"
   ]
  },
  {
   "cell_type": "code",
   "execution_count": 25,
   "id": "f558a5dd-7d60-4381-82ef-51a93ddf5ce9",
   "metadata": {
    "tags": []
   },
   "outputs": [
    {
     "name": "stderr",
     "output_type": "stream",
     "text": [
      "Downloading: \"https://download.pytorch.org/models/vgg11-8a719046.pth\" to /home/studio-lab-user/.cache/torch/hub/checkpoints/vgg11-8a719046.pth\n",
      "100%|██████████| 507M/507M [00:01<00:00, 367MB/s] \n"
     ]
    }
   ],
   "source": [
    "NUM_CLASSES = 2\n",
    "vcn32 = VCN32(pretrained=True, num_classes=NUM_CLASSES)"
   ]
  },
  {
   "cell_type": "markdown",
   "id": "7868ce0c-755f-44d4-837f-eb2f9a159972",
   "metadata": {},
   "source": [
    "## Training"
   ]
  },
  {
   "cell_type": "code",
   "execution_count": 55,
   "id": "da55a4d8-e908-4f7c-a0ec-50eca063b834",
   "metadata": {
    "tags": []
   },
   "outputs": [],
   "source": [
    "torch.cuda.empty_cache()"
   ]
  },
  {
   "cell_type": "code",
   "execution_count": 56,
   "id": "3e4fd7a9-e0dd-40dd-a468-947b8e310dfe",
   "metadata": {
    "tags": []
   },
   "outputs": [],
   "source": [
    "EPOCHS = 3\n",
    "MOMENTUM = 0.9\n",
    "WEIGHT_DECAY = 5e-4\n",
    "LR = 1e-3"
   ]
  },
  {
   "cell_type": "code",
   "execution_count": 57,
   "id": "ee9529e4-6a75-42b0-af07-eea469103d9a",
   "metadata": {
    "tags": []
   },
   "outputs": [],
   "source": [
    "cross_entropy = torch.nn.CrossEntropyLoss()"
   ]
  },
  {
   "cell_type": "code",
   "execution_count": 58,
   "id": "8e46226e-702f-4111-9336-b317b21ee59a",
   "metadata": {
    "tags": []
   },
   "outputs": [],
   "source": [
    "vcn32_optimizer = torch.optim.SGD(vcn32.parameters(), lr=LR, momentum=MOMENTUM, weight_decay=WEIGHT_DECAY)"
   ]
  },
  {
   "cell_type": "code",
   "execution_count": 59,
   "id": "80ca56a6-5c06-4907-83fd-e43c3c6d455a",
   "metadata": {
    "tags": []
   },
   "outputs": [],
   "source": [
    "vcn32_trainer = VCNTrainer(\n",
    "    model=vcn32,\n",
    "    criterion=cross_entropy,\n",
    "    train_loader=train_loader,\n",
    "    val_loader=val_loader,\n",
    "    optimizer=vcn32_optimizer,\n",
    "    epochs=EPOCHS,\n",
    "    device=device,\n",
    "    checkpoint=\"vcn32.pth\"\n",
    ")"
   ]
  },
  {
   "cell_type": "code",
   "execution_count": 60,
   "id": "990b8213-3603-4192-b8b7-d0877c75ffbb",
   "metadata": {
    "tags": []
   },
   "outputs": [
    {
     "name": "stderr",
     "output_type": "stream",
     "text": [
      "Epoch [1/3]:   0%|          | 0/17 [00:11<?, ?it/s, summary=Loss: 0.5870959162712097, Val Loss: 0.5986226081848145]\n"
     ]
    },
    {
     "name": "stdout",
     "output_type": "stream",
     "text": [
      "Epoch [1/3]: Train Pixel Acc: 27.142089257578032, Val Pixel Acc: 23.122253667091837\n"
     ]
    },
    {
     "data": {
      "text/plain": [
       "{'model': VCN32(\n",
       "   (down1): DownSample(\n",
       "     (conv_pool): Sequential(\n",
       "       (0): Conv2d(3, 64, kernel_size=(3, 3), stride=(1, 1), padding=(1, 1))\n",
       "       (1): ReLU()\n",
       "       (2): MaxPool2d(kernel_size=2, stride=2, padding=0, dilation=1, ceil_mode=False)\n",
       "     )\n",
       "   )\n",
       "   (down2): DownSample(\n",
       "     (conv_pool): Sequential(\n",
       "       (0): Conv2d(64, 128, kernel_size=(3, 3), stride=(1, 1), padding=(1, 1))\n",
       "       (1): ReLU()\n",
       "       (2): MaxPool2d(kernel_size=2, stride=2, padding=0, dilation=1, ceil_mode=False)\n",
       "     )\n",
       "   )\n",
       "   (down3): DownSample(\n",
       "     (conv_pool): Sequential(\n",
       "       (0): Conv2d(128, 256, kernel_size=(3, 3), stride=(1, 1), padding=(1, 1))\n",
       "       (1): ReLU()\n",
       "       (2): Conv2d(256, 256, kernel_size=(3, 3), stride=(1, 1), padding=(1, 1))\n",
       "       (3): ReLU()\n",
       "       (4): MaxPool2d(kernel_size=2, stride=2, padding=0, dilation=1, ceil_mode=False)\n",
       "     )\n",
       "   )\n",
       "   (down4): DownSample(\n",
       "     (conv_pool): Sequential(\n",
       "       (0): Conv2d(256, 512, kernel_size=(3, 3), stride=(1, 1), padding=(1, 1))\n",
       "       (1): ReLU()\n",
       "       (2): Conv2d(512, 512, kernel_size=(3, 3), stride=(1, 1), padding=(1, 1))\n",
       "       (3): ReLU()\n",
       "       (4): MaxPool2d(kernel_size=2, stride=2, padding=0, dilation=1, ceil_mode=False)\n",
       "     )\n",
       "   )\n",
       "   (down5): DownSample(\n",
       "     (conv_pool): Sequential(\n",
       "       (0): Conv2d(512, 512, kernel_size=(3, 3), stride=(1, 1), padding=(1, 1))\n",
       "       (1): ReLU()\n",
       "       (2): Conv2d(512, 512, kernel_size=(3, 3), stride=(1, 1), padding=(1, 1))\n",
       "       (3): ReLU()\n",
       "       (4): MaxPool2d(kernel_size=2, stride=2, padding=0, dilation=1, ceil_mode=False)\n",
       "     )\n",
       "   )\n",
       "   (prediction): Sequential(\n",
       "     (0): Conv2d(512, 4096, kernel_size=(3, 3), stride=(1, 1), padding=(1, 1))\n",
       "     (1): ReLU()\n",
       "     (2): Dropout2d(p=0.5, inplace=False)\n",
       "     (3): Conv2d(4096, 4096, kernel_size=(3, 3), stride=(1, 1), padding=(1, 1))\n",
       "     (4): ReLU()\n",
       "     (5): Dropout2d(p=0.5, inplace=False)\n",
       "     (6): Conv2d(4096, 2, kernel_size=(1, 1), stride=(1, 1))\n",
       "   )\n",
       "   (encoder): VGG11Encoder(\n",
       "     (down1): DownSample(\n",
       "       (conv_pool): Sequential(\n",
       "         (0): Conv2d(3, 64, kernel_size=(3, 3), stride=(1, 1), padding=(1, 1))\n",
       "         (1): ReLU()\n",
       "         (2): MaxPool2d(kernel_size=2, stride=2, padding=0, dilation=1, ceil_mode=False)\n",
       "       )\n",
       "     )\n",
       "     (down2): DownSample(\n",
       "       (conv_pool): Sequential(\n",
       "         (0): Conv2d(64, 128, kernel_size=(3, 3), stride=(1, 1), padding=(1, 1))\n",
       "         (1): ReLU()\n",
       "         (2): MaxPool2d(kernel_size=2, stride=2, padding=0, dilation=1, ceil_mode=False)\n",
       "       )\n",
       "     )\n",
       "     (down3): DownSample(\n",
       "       (conv_pool): Sequential(\n",
       "         (0): Conv2d(128, 256, kernel_size=(3, 3), stride=(1, 1), padding=(1, 1))\n",
       "         (1): ReLU()\n",
       "         (2): Conv2d(256, 256, kernel_size=(3, 3), stride=(1, 1), padding=(1, 1))\n",
       "         (3): ReLU()\n",
       "         (4): MaxPool2d(kernel_size=2, stride=2, padding=0, dilation=1, ceil_mode=False)\n",
       "       )\n",
       "     )\n",
       "     (down4): DownSample(\n",
       "       (conv_pool): Sequential(\n",
       "         (0): Conv2d(256, 512, kernel_size=(3, 3), stride=(1, 1), padding=(1, 1))\n",
       "         (1): ReLU()\n",
       "         (2): Conv2d(512, 512, kernel_size=(3, 3), stride=(1, 1), padding=(1, 1))\n",
       "         (3): ReLU()\n",
       "         (4): MaxPool2d(kernel_size=2, stride=2, padding=0, dilation=1, ceil_mode=False)\n",
       "       )\n",
       "     )\n",
       "     (down5): DownSample(\n",
       "       (conv_pool): Sequential(\n",
       "         (0): Conv2d(512, 512, kernel_size=(3, 3), stride=(1, 1), padding=(1, 1))\n",
       "         (1): ReLU()\n",
       "         (2): Conv2d(512, 512, kernel_size=(3, 3), stride=(1, 1), padding=(1, 1))\n",
       "         (3): ReLU()\n",
       "         (4): MaxPool2d(kernel_size=2, stride=2, padding=0, dilation=1, ceil_mode=False)\n",
       "       )\n",
       "     )\n",
       "     (prediction): Sequential(\n",
       "       (0): Conv2d(512, 4096, kernel_size=(3, 3), stride=(1, 1), padding=(1, 1))\n",
       "       (1): ReLU()\n",
       "       (2): Dropout2d(p=0.5, inplace=False)\n",
       "       (3): Conv2d(4096, 4096, kernel_size=(3, 3), stride=(1, 1), padding=(1, 1))\n",
       "       (4): ReLU()\n",
       "       (5): Dropout2d(p=0.5, inplace=False)\n",
       "       (6): Conv2d(4096, 2, kernel_size=(1, 1), stride=(1, 1))\n",
       "     )\n",
       "   )\n",
       "   (up32): UpSample(\n",
       "     (conv_tranpose): ConvTranspose2d(2, 2, kernel_size=(64, 64), stride=(32, 32), padding=(16, 16))\n",
       "   )\n",
       " ),\n",
       " 'train_losses': [0.5870959162712097],\n",
       " 'val_losses': [0.5986226081848145],\n",
       " 'iterations': 1,\n",
       " 'train_pixel_accuracies': [27.142089257578032],\n",
       " 'val_pixel_accuracies': [23.122253667091837]}"
      ]
     },
     "execution_count": 60,
     "metadata": {},
     "output_type": "execute_result"
    }
   ],
   "source": [
    "vcn32_trainer.train()"
   ]
  },
  {
   "cell_type": "code",
   "execution_count": null,
   "id": "e123253a-d68d-4d02-a8b4-1cb24636c831",
   "metadata": {},
   "outputs": [],
   "source": []
  }
 ],
 "metadata": {
  "kernelspec": {
   "display_name": "deeplearning:Python",
   "language": "python",
   "name": "conda-env-deeplearning-py"
  },
  "language_info": {
   "codemirror_mode": {
    "name": "ipython",
    "version": 3
   },
   "file_extension": ".py",
   "mimetype": "text/x-python",
   "name": "python",
   "nbconvert_exporter": "python",
   "pygments_lexer": "ipython3",
   "version": "3.9.16"
  }
 },
 "nbformat": 4,
 "nbformat_minor": 5
}
