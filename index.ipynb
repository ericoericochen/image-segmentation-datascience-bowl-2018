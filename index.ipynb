{
 "cells": [
  {
   "cell_type": "code",
   "execution_count": 1,
   "id": "39381361-4fe1-42d4-94f4-46440cdcbb63",
   "metadata": {
    "tags": []
   },
   "outputs": [],
   "source": [
    "%load_ext autoreload\n",
    "%autoreload 2"
   ]
  },
  {
   "cell_type": "code",
   "execution_count": 208,
   "id": "552ccbd7-38f5-4482-8f10-8815695626d9",
   "metadata": {},
   "outputs": [],
   "source": [
    "import torch\n",
    "import torch.nn as nn\n",
    "import torch.nn.functional as F "
   ]
  },
  {
   "cell_type": "code",
   "execution_count": 194,
   "id": "526599f0-ae93-4e5f-b60c-03676ec96022",
   "metadata": {
    "tags": []
   },
   "outputs": [],
   "source": []
  },
  {
   "cell_type": "code",
   "execution_count": null,
   "id": "a2f68e9d-4846-47da-803c-3ca5ec241679",
   "metadata": {},
   "outputs": [],
   "source": []
  },
  {
   "cell_type": "code",
   "execution_count": 224,
   "id": "923f25da-74b6-474b-993b-cba98ebe93e2",
   "metadata": {
    "tags": []
   },
   "outputs": [
    {
     "data": {
      "text/plain": [
       "torch.Size([1, 21, 223, 223])"
      ]
     },
     "execution_count": 224,
     "metadata": {},
     "output_type": "execute_result"
    }
   ],
   "source": [
    "inp = torch.zeros(1, 3, 223, 223)\n",
    "class BinaryFCN32(nn.Module):\n",
    "    def __init__(self):\n",
    "        super().__init__()\n",
    "        self.conv1 = nn.Sequential(\n",
    "            nn.Conv2d(3, 64, 3, padding=1),\n",
    "            nn.ReLU()\n",
    "        )\n",
    "        self.pool1 = nn.MaxPool2d(2, 2)\n",
    "        self.conv2 = nn.Sequential(\n",
    "            nn.Conv2d(64, 128, 3, padding=1),\n",
    "            nn.ReLU()\n",
    "        )\n",
    "        self.pool2 = nn.MaxPool2d(2, 2)\n",
    "        self.conv3 = nn.Sequential(\n",
    "            nn.Conv2d(128, 256, 3, padding=1),\n",
    "            nn.ReLU()\n",
    "        )\n",
    "        self.pool3 = nn.MaxPool2d(2, 2)\n",
    "        self.conv4 = nn.Sequential(\n",
    "            nn.Conv2d(256, 512, 3, padding=1),\n",
    "            nn.ReLU()\n",
    "        )\n",
    "        self.pool4 = nn.MaxPool2d(2, 2)\n",
    "        self.conv5 = nn.Sequential(\n",
    "            nn.Conv2d(512, 512, 3, padding=1),\n",
    "            nn.ReLU()\n",
    "        )\n",
    "        self.pool5 = nn.MaxPool2d(2, 2)\n",
    "        self.conv6 = nn.Sequential(\n",
    "            nn.Conv2d(512, 512, 3, padding=1),\n",
    "            nn.ReLU()\n",
    "        )\n",
    "        \n",
    "        self.conv7 = nn.Sequential(\n",
    "            nn.Conv2d(512, 21, 1)\n",
    "        )\n",
    "        \n",
    "        self.pool4prediction = nn.Conv2d(512, 21, 1)\n",
    "        self.up2 = nn.ConvTranspose2d(21, 21, 4, stride=2, padding=1)\n",
    "        self.up16 = nn.ConvTranspose2d(21, 21, 32, stride=16, padding=8)\n",
    "        \n",
    "        \n",
    "    def forward(self, x):\n",
    "        shape = x.shape\n",
    "        x = self.conv1(x)\n",
    "        x = self.pool1(x) # size / 2\n",
    "        x = self.conv2(x)\n",
    "        x = self.pool2(x) # size / 4\n",
    "        x = self.conv3(x)\n",
    "        x = self.pool3(x) # size / 8\n",
    "        x = self.conv4(x)\n",
    "        x = self.pool4(x) # size / 16\n",
    "        \n",
    "        pool4 = x\n",
    "        x = self.conv5(x)\n",
    "        x = self.pool5(x) # size / 32\n",
    "        x = self.conv6(x)\n",
    "        x = self.conv7(x)\n",
    "        conv7 = x\n",
    "        \n",
    "        # print(pool4.shape, conv7.shape)\n",
    "        \n",
    "        pool4prediction = self.pool4prediction(pool4)\n",
    "        conv7prediction2x = self.up2(conv7)\n",
    "        \n",
    "        # resize to pool4 prediction size\n",
    "        conv7prediction2x = F.interpolate(conv7prediction2x, pool4prediction.shape[2:], mode=\"bilinear\")\n",
    "        \n",
    "        # print(pool4prediction.shape, conv7prediction2x.shape)\n",
    "        \n",
    "        combined = pool4prediction + conv7prediction2x\n",
    "        \n",
    "        # upsample by 16\n",
    "        final = self.up16(combined)    \n",
    "        final = F.interpolate(final, shape[2:], mode=\"bilinear\")\n",
    "        \n",
    "        # print(final.shape)    \n",
    "        \n",
    "        return final\n",
    "    \n",
    "net = BinaryFCN32()\n",
    "out = net(inp)\n",
    "out.shape"
   ]
  },
  {
   "cell_type": "code",
   "execution_count": 228,
   "id": "40f9936f-dd77-4345-b796-be0378d543f6",
   "metadata": {
    "tags": []
   },
   "outputs": [
    {
     "name": "stdout",
     "output_type": "stream",
     "text": [
      "torch.Size([1, 3, 112, 112]) torch.Size([1, 21, 112, 112])\n",
      "torch.Size([1, 3, 945, 673]) torch.Size([1, 21, 945, 673])\n",
      "torch.Size([1, 3, 448, 448]) torch.Size([1, 21, 448, 448])\n"
     ]
    }
   ],
   "source": [
    "shapes = [(1, 3, 112, 112), (1, 3, 945, 673), (1, 3, 448, 448)]\n",
    "\n",
    "for shape in shapes:\n",
    "    inp = torch.rand(shape)\n",
    "    out = net(inp)\n",
    "    \n",
    "    print(inp.shape, out.shape)\n",
    "    \n",
    "    assert out.shape[2:] == inp.shape[2:]"
   ]
  },
  {
   "cell_type": "code",
   "execution_count": null,
   "id": "58d0fc02-fdec-4fec-8b8b-ae86f5c35065",
   "metadata": {},
   "outputs": [],
   "source": []
  },
  {
   "cell_type": "code",
   "execution_count": null,
   "id": "7c4fe72e-b4bb-4b01-89e9-9882d3b51693",
   "metadata": {
    "tags": []
   },
   "outputs": [],
   "source": []
  },
  {
   "cell_type": "code",
   "execution_count": 175,
   "id": "24869605-a0da-453e-bb90-f6e772ddb3d8",
   "metadata": {
    "tags": []
   },
   "outputs": [
    {
     "name": "stdout",
     "output_type": "stream",
     "text": [
      "torch.Size([1, 3, 4, 3])\n",
      "torch.Size([1, 1, 8, 6])\n"
     ]
    }
   ],
   "source": [
    "deconv = nn.ConvTranspose2d(3, 1, kernel_size=3, stride=2, padding=1, dilation=1, output_padding=1)\n",
    "input_tensor = torch.randn(1, 3, 4, 3)  # Example input tensor (batch_size, channels, height, width)\n",
    "output_tensor = deconv(input_tensor)\n",
    "print(input_tensor.shape)   # Output: torch.Size([1, 3, 32, 32])\n",
    "print(output_tensor.shape)  # Output: torch.Size([1, 64, 64, 64])"
   ]
  },
  {
   "cell_type": "code",
   "execution_count": null,
   "id": "9b87af37-b21f-4eb0-9a67-36d49b78ddad",
   "metadata": {},
   "outputs": [],
   "source": []
  },
  {
   "cell_type": "code",
   "execution_count": 174,
   "id": "1eecb28e-9c2f-4e4a-a752-2e2b629333d5",
   "metadata": {
    "tags": []
   },
   "outputs": [
    {
     "name": "stdout",
     "output_type": "stream",
     "text": [
      "torch.Size([1, 3, 2, 2])\n",
      "torch.Size([1, 1, 48, 48])\n"
     ]
    }
   ],
   "source": [
    "deconv = nn.ConvTranspose2d(3, 1, kernel_size=32, stride=16)\n",
    "input_tensor = torch.randn(1, 3, 2, 2)  # Example input tensor (batch_size, channels, height, width)\n",
    "output_tensor = deconv(input_tensor)\n",
    "print(input_tensor.shape)   # Output: torch.Size([1, 3, 32, 32])\n",
    "print(output_tensor.shape)"
   ]
  },
  {
   "cell_type": "code",
   "execution_count": null,
   "id": "0de73059-9c19-4dd7-bfd7-dd165966e6d3",
   "metadata": {},
   "outputs": [],
   "source": []
  }
 ],
 "metadata": {
  "kernelspec": {
   "display_name": "Python 3 (ipykernel)",
   "language": "python",
   "name": "python3"
  },
  "language_info": {
   "codemirror_mode": {
    "name": "ipython",
    "version": 3
   },
   "file_extension": ".py",
   "mimetype": "text/x-python",
   "name": "python",
   "nbconvert_exporter": "python",
   "pygments_lexer": "ipython3",
   "version": "3.9.16"
  }
 },
 "nbformat": 4,
 "nbformat_minor": 5
}
