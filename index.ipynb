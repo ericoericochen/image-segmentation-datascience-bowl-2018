{
 "cells": [
  {
   "cell_type": "code",
   "execution_count": 44,
   "id": "39381361-4fe1-42d4-94f4-46440cdcbb63",
   "metadata": {
    "tags": []
   },
   "outputs": [
    {
     "name": "stdout",
     "output_type": "stream",
     "text": [
      "The autoreload extension is already loaded. To reload it, use:\n",
      "  %reload_ext autoreload\n"
     ]
    }
   ],
   "source": [
    "%load_ext autoreload\n",
    "%autoreload 2"
   ]
  },
  {
   "cell_type": "code",
   "execution_count": 2,
   "id": "552ccbd7-38f5-4482-8f10-8815695626d9",
   "metadata": {
    "tags": []
   },
   "outputs": [],
   "source": [
    "import torch\n",
    "from torch.utils.data import DataLoader, random_split\n",
    "from torchvision.transforms import ToTensor, Normalize, Compose, Resize\n",
    "from dataset import SegmentationDataset\n",
    "from models import VCN32, VCN16, VCN8\n",
    "from train import VCNTrainer"
   ]
  },
  {
   "cell_type": "markdown",
   "id": "53189a38-796c-4f6b-8401-e6962d828ad4",
   "metadata": {},
   "source": [
    "# Semantic Segmentation with Fully Convolutional Networks\n",
    "Semantic Segmentation is a task where you look at every pixel of an image and classify it in one of C categories. It's like coloring images in a coloring book. Green for grass. Blue for sky. Yellow for sun. So on and so forth. Training a neural net for semantic segmentation is a much more fancy way of saying \"I'm going to teach an AI to be an expert at coloring within the lines.\"\n",
    "\n",
    "To do this task we'll use a fully convolutional network, a neural net that consists only of convolutional layers with ReLU activations and pooling layers mixed in."
   ]
  },
  {
   "cell_type": "markdown",
   "id": "30fc2bc1-2856-4780-a738-c359435aaea6",
   "metadata": {},
   "source": [
    "## Config"
   ]
  },
  {
   "cell_type": "code",
   "execution_count": 46,
   "id": "9cf9d157-aa50-40fa-8308-4042199d77f9",
   "metadata": {},
   "outputs": [],
   "source": [
    "BATCH_SIZE = 32\n",
    "NUM_CLASSES = 2\n",
    "DEVICE = torch.device(\"cuda\" if torch.cuda.is_available() else \"cpu\")\n",
    "EPOCHS = 70\n",
    "MOMENTUM = 0.9\n",
    "WEIGHT_DECAY = 5e-4\n",
    "LR = 1e-3"
   ]
  },
  {
   "cell_type": "markdown",
   "id": "2de21cc2-d511-40ee-a55d-9139209b9299",
   "metadata": {},
   "source": [
    "## Dataset"
   ]
  },
  {
   "cell_type": "code",
   "execution_count": 47,
   "id": "526599f0-ae93-4e5f-b60c-03676ec96022",
   "metadata": {
    "tags": []
   },
   "outputs": [
    {
     "data": {
      "text/plain": [
       "<torch._C.Generator at 0x7f98261e8ed0>"
      ]
     },
     "execution_count": 47,
     "metadata": {},
     "output_type": "execute_result"
    }
   ],
   "source": [
    "torch.manual_seed(5)"
   ]
  },
  {
   "cell_type": "code",
   "execution_count": 48,
   "id": "06fece8c-f5b9-4572-8d80-21978110f0ee",
   "metadata": {
    "tags": []
   },
   "outputs": [],
   "source": [
    "transform = Compose([\n",
    "    ToTensor(),\n",
    "    Normalize(mean=[0.485, 0.456, 0.406], std=[0.229, 0.224, 0.225]),\n",
    "    Resize((224, 224), antialias=True)\n",
    "])\n",
    "\n",
    "target_transform = Compose([\n",
    "    Resize((224, 224), antialias=True),\n",
    "    lambda x: x[0] # first dimension is unnecessary\n",
    "])"
   ]
  },
  {
   "cell_type": "code",
   "execution_count": 49,
   "id": "a2f68e9d-4846-47da-803c-3ca5ec241679",
   "metadata": {
    "tags": []
   },
   "outputs": [],
   "source": [
    "train_val_set = SegmentationDataset(root=\"data/stage1_train\", train=True, transform=transform, target_transform=target_transform)\n",
    "train_set, val_set = random_split(train_val_set, lengths=[0.8, 0.2]) # 80/20 split\n",
    "test_set = SegmentationDataset(root=\"data/stage1_test\", train=False)"
   ]
  },
  {
   "cell_type": "code",
   "execution_count": 50,
   "id": "0de73059-9c19-4dd7-bfd7-dd165966e6d3",
   "metadata": {
    "tags": []
   },
   "outputs": [
    {
     "name": "stdout",
     "output_type": "stream",
     "text": [
      "train_set size: 536, val_set size: 134, test_set size: 65\n"
     ]
    }
   ],
   "source": [
    "print(f\"train_set size: {len(train_set)}, val_set size: {len(val_set)}, test_set size: {len(test_set)}\")"
   ]
  },
  {
   "cell_type": "code",
   "execution_count": 51,
   "id": "cfcd1eb5-b954-48f6-bbdd-08a5b6a97ee5",
   "metadata": {
    "tags": []
   },
   "outputs": [],
   "source": [
    "train_loader = DataLoader(train_set, batch_size=BATCH_SIZE, shuffle=True)\n",
    "val_loader = DataLoader(val_set, batch_size=BATCH_SIZE, shuffle=True)\n",
    "test_loader = DataLoader(test_set, batch_size=BATCH_SIZE, shuffle=True)"
   ]
  },
  {
   "cell_type": "code",
   "execution_count": 52,
   "id": "a6df4613-07d8-4435-b39a-e8cee7adc562",
   "metadata": {
    "tags": []
   },
   "outputs": [
    {
     "name": "stdout",
     "output_type": "stream",
     "text": [
      "torch.Size([32, 3, 224, 224]) torch.Size([32, 224, 224])\n"
     ]
    }
   ],
   "source": [
    "for (X, Y) in train_loader:\n",
    "    print(X.shape, Y.shape)\n",
    "    break"
   ]
  },
  {
   "cell_type": "markdown",
   "id": "6c6015ff-dc74-43fd-b778-2ad1360eb386",
   "metadata": {},
   "source": [
    "## Models\n",
    "VCN32, VCN16, and VCN8"
   ]
  },
  {
   "cell_type": "code",
   "execution_count": 53,
   "id": "f558a5dd-7d60-4381-82ef-51a93ddf5ce9",
   "metadata": {
    "tags": []
   },
   "outputs": [],
   "source": [
    "vcn32 = VCN32(pretrained=True, num_classes=NUM_CLASSES)\n",
    "vcn16 = VCN16(pretrained=True, num_classes=NUM_CLASSES)\n",
    "vcn8 = VCN8(pretrained=True, num_classes=NUM_CLASSES)"
   ]
  },
  {
   "cell_type": "markdown",
   "id": "7868ce0c-755f-44d4-837f-eb2f9a159972",
   "metadata": {},
   "source": [
    "## Training"
   ]
  },
  {
   "cell_type": "code",
   "execution_count": 54,
   "id": "da55a4d8-e908-4f7c-a0ec-50eca063b834",
   "metadata": {
    "tags": []
   },
   "outputs": [],
   "source": [
    "torch.cuda.empty_cache()"
   ]
  },
  {
   "cell_type": "code",
   "execution_count": 55,
   "id": "ee9529e4-6a75-42b0-af07-eea469103d9a",
   "metadata": {
    "tags": []
   },
   "outputs": [],
   "source": [
    "cross_entropy = torch.nn.CrossEntropyLoss()"
   ]
  },
  {
   "cell_type": "code",
   "execution_count": 56,
   "id": "8e46226e-702f-4111-9336-b317b21ee59a",
   "metadata": {
    "tags": []
   },
   "outputs": [],
   "source": [
    "vcn32_optimizer = torch.optim.SGD(vcn32.parameters(), lr=LR, momentum=MOMENTUM, weight_decay=WEIGHT_DECAY)\n",
    "vcn16_optimizer = torch.optim.SGD(vcn16.parameters(), lr=LR, momentum=MOMENTUM, weight_decay=WEIGHT_DECAY)\n",
    "vcn8_optimizer = torch.optim.SGD(vcn8.parameters(), lr=LR, momentum=MOMENTUM, weight_decay=WEIGHT_DECAY)"
   ]
  },
  {
   "cell_type": "code",
   "execution_count": 57,
   "id": "80ca56a6-5c06-4907-83fd-e43c3c6d455a",
   "metadata": {
    "tags": []
   },
   "outputs": [],
   "source": [
    "vcn32_trainer = VCNTrainer(\n",
    "    model=vcn32,\n",
    "    criterion=cross_entropy,\n",
    "    train_loader=train_loader,\n",
    "    val_loader=val_loader,\n",
    "    optimizer=vcn32_optimizer,\n",
    "    epochs=EPOCHS,\n",
    "    device=DEVICE,\n",
    "    checkpoint=\"vcn32.pth\"\n",
    ")"
   ]
  },
  {
   "cell_type": "code",
   "execution_count": null,
   "id": "990b8213-3603-4192-b8b7-d0877c75ffbb",
   "metadata": {
    "tags": []
   },
   "outputs": [
    {
     "name": "stderr",
     "output_type": "stream",
     "text": [
      "Epoch [1/70]: 100%|██████████| 17/17 [02:45<00:00,  9.72s/it, summary=Loss: 0.6675023436546326, Val Loss: 0.6632475137710572]\n"
     ]
    },
    {
     "name": "stdout",
     "output_type": "stream",
     "text": [
      "Epoch [1/70]: Train Pixel Acc: 27.142089257578032, Val Pixel Acc: 23.122253667091837\n"
     ]
    },
    {
     "name": "stderr",
     "output_type": "stream",
     "text": [
      "Epoch [2/70]: 100%|██████████| 17/17 [02:45<00:00,  9.74s/it, summary=Loss: 0.6367778182029724, Val Loss: 0.6294708013534546]\n"
     ]
    },
    {
     "name": "stdout",
     "output_type": "stream",
     "text": [
      "Epoch [2/70]: Train Pixel Acc: 27.142089257578032, Val Pixel Acc: 23.122253667091837\n"
     ]
    },
    {
     "name": "stderr",
     "output_type": "stream",
     "text": [
      "Epoch [3/70]: 100%|██████████| 17/17 [02:44<00:00,  9.70s/it, summary=Loss: 0.5951410531997681, Val Loss: 0.5991144061088562]\n"
     ]
    },
    {
     "name": "stdout",
     "output_type": "stream",
     "text": [
      "Epoch [3/70]: Train Pixel Acc: 27.142089257578032, Val Pixel Acc: 23.122253667091837\n"
     ]
    },
    {
     "name": "stderr",
     "output_type": "stream",
     "text": [
      "Epoch [4/70]: 100%|██████████| 17/17 [02:44<00:00,  9.69s/it, summary=Loss: 0.5899320840835571, Val Loss: 0.575039541721344] \n"
     ]
    },
    {
     "name": "stdout",
     "output_type": "stream",
     "text": [
      "Epoch [4/70]: Train Pixel Acc: 27.142089257578032, Val Pixel Acc: 23.122253667091837\n"
     ]
    },
    {
     "name": "stderr",
     "output_type": "stream",
     "text": [
      "Epoch [5/70]: 100%|██████████| 17/17 [02:45<00:00,  9.71s/it, summary=Loss: 0.5609776377677917, Val Loss: 0.5460091829299927]\n"
     ]
    },
    {
     "name": "stdout",
     "output_type": "stream",
     "text": [
      "Epoch [5/70]: Train Pixel Acc: 27.142089257578032, Val Pixel Acc: 23.122253667091837\n"
     ]
    },
    {
     "name": "stderr",
     "output_type": "stream",
     "text": [
      "Epoch [6/70]: 100%|██████████| 17/17 [02:47<00:00,  9.84s/it, summary=Loss: 0.5249054431915283, Val Loss: 0.5273350596427917]\n"
     ]
    },
    {
     "name": "stdout",
     "output_type": "stream",
     "text": [
      "Epoch [6/70]: Train Pixel Acc: 27.142089257578032, Val Pixel Acc: 23.122253667091837\n"
     ]
    },
    {
     "name": "stderr",
     "output_type": "stream",
     "text": [
      "Epoch [7/70]: 100%|██████████| 17/17 [02:45<00:00,  9.71s/it, summary=Loss: 0.5158845782279968, Val Loss: 0.5048510372638703]\n"
     ]
    },
    {
     "name": "stdout",
     "output_type": "stream",
     "text": [
      "Epoch [7/70]: Train Pixel Acc: 27.142089257578032, Val Pixel Acc: 23.122253667091837\n"
     ]
    },
    {
     "name": "stderr",
     "output_type": "stream",
     "text": [
      "Epoch [8/70]: 100%|██████████| 17/17 [02:45<00:00,  9.71s/it, summary=Loss: 0.5035630464553833, Val Loss: 0.5026364862918854]  \n"
     ]
    },
    {
     "name": "stdout",
     "output_type": "stream",
     "text": [
      "Epoch [8/70]: Train Pixel Acc: 27.142089257578032, Val Pixel Acc: 23.122253667091837\n"
     ]
    },
    {
     "name": "stderr",
     "output_type": "stream",
     "text": [
      "Epoch [9/70]: 100%|██████████| 17/17 [02:45<00:00,  9.76s/it, summary=Loss: 0.4650995135307312, Val Loss: 0.4851538360118866] \n"
     ]
    },
    {
     "name": "stdout",
     "output_type": "stream",
     "text": [
      "Epoch [9/70]: Train Pixel Acc: 27.142089257578032, Val Pixel Acc: 23.122253667091837\n"
     ]
    },
    {
     "name": "stderr",
     "output_type": "stream",
     "text": [
      "Epoch [10/70]: 100%|██████████| 17/17 [02:46<00:00,  9.78s/it, summary=Loss: 0.5126964449882507, Val Loss: 0.4748647093772888]  \n"
     ]
    },
    {
     "name": "stdout",
     "output_type": "stream",
     "text": [
      "Epoch [10/70]: Train Pixel Acc: 27.142089257578032, Val Pixel Acc: 23.122253667091837\n"
     ]
    },
    {
     "name": "stderr",
     "output_type": "stream",
     "text": [
      "Epoch [11/70]: 100%|██████████| 17/17 [02:46<00:00,  9.78s/it, summary=Loss: 0.4747842252254486, Val Loss: 0.47506238222122193]\n"
     ]
    },
    {
     "name": "stdout",
     "output_type": "stream",
     "text": [
      "Epoch [11/70]: Train Pixel Acc: 27.142089257578032, Val Pixel Acc: 23.122253667091837\n"
     ]
    },
    {
     "name": "stderr",
     "output_type": "stream",
     "text": [
      "Epoch [12/70]: 100%|██████████| 17/17 [02:46<00:00,  9.77s/it, summary=Loss: 0.4492447078227997, Val Loss: 0.46348450779914857] \n"
     ]
    },
    {
     "name": "stdout",
     "output_type": "stream",
     "text": [
      "Epoch [12/70]: Train Pixel Acc: 27.142089257578032, Val Pixel Acc: 23.122253667091837\n"
     ]
    },
    {
     "name": "stderr",
     "output_type": "stream",
     "text": [
      "Epoch [13/70]: 100%|██████████| 17/17 [02:45<00:00,  9.73s/it, summary=Loss: 0.4532831013202667, Val Loss: 0.45325044393539426] \n"
     ]
    },
    {
     "name": "stdout",
     "output_type": "stream",
     "text": [
      "Epoch [13/70]: Train Pixel Acc: 27.142089257578032, Val Pixel Acc: 23.122253667091837\n"
     ]
    },
    {
     "name": "stderr",
     "output_type": "stream",
     "text": [
      "Epoch [14/70]: 100%|██████████| 17/17 [02:45<00:00,  9.73s/it, summary=Loss: 0.44953399896621704, Val Loss: 0.45444504022598264]\n"
     ]
    },
    {
     "name": "stdout",
     "output_type": "stream",
     "text": [
      "Epoch [14/70]: Train Pixel Acc: 27.142089257578032, Val Pixel Acc: 23.122253667091837\n"
     ]
    },
    {
     "name": "stderr",
     "output_type": "stream",
     "text": [
      "Epoch [15/70]: 100%|██████████| 17/17 [02:45<00:00,  9.72s/it, summary=Loss: 0.4875869154930115, Val Loss: 0.44419227838516234] \n"
     ]
    },
    {
     "name": "stdout",
     "output_type": "stream",
     "text": [
      "Epoch [15/70]: Train Pixel Acc: 27.142089257578032, Val Pixel Acc: 23.122253667091837\n"
     ]
    },
    {
     "name": "stderr",
     "output_type": "stream",
     "text": [
      "Epoch [16/70]: 100%|██████████| 17/17 [02:45<00:00,  9.71s/it, summary=Loss: 0.45591309666633606, Val Loss: 0.43889243006706236]\n"
     ]
    },
    {
     "name": "stdout",
     "output_type": "stream",
     "text": [
      "Epoch [16/70]: Train Pixel Acc: 27.142089257578032, Val Pixel Acc: 23.122253667091837\n"
     ]
    },
    {
     "name": "stderr",
     "output_type": "stream",
     "text": [
      "Epoch [17/70]: 100%|██████████| 17/17 [02:45<00:00,  9.72s/it, summary=Loss: 0.40672600269317627, Val Loss: 0.4345195770263672] \n"
     ]
    },
    {
     "name": "stdout",
     "output_type": "stream",
     "text": [
      "Epoch [17/70]: Train Pixel Acc: 27.142089257578032, Val Pixel Acc: 23.122253667091837\n"
     ]
    },
    {
     "name": "stderr",
     "output_type": "stream",
     "text": [
      "Epoch [18/70]: 100%|██████████| 17/17 [02:44<00:00,  9.69s/it, summary=Loss: 0.4496973752975464, Val Loss: 0.4420386254787445]  \n"
     ]
    },
    {
     "name": "stdout",
     "output_type": "stream",
     "text": [
      "Epoch [18/70]: Train Pixel Acc: 27.142089257578032, Val Pixel Acc: 23.122253667091837\n"
     ]
    },
    {
     "name": "stderr",
     "output_type": "stream",
     "text": [
      "Epoch [19/70]: 100%|██████████| 17/17 [02:45<00:00,  9.73s/it, summary=Loss: 0.40854164958000183, Val Loss: 0.42373030781745913]\n"
     ]
    },
    {
     "name": "stdout",
     "output_type": "stream",
     "text": [
      "Epoch [19/70]: Train Pixel Acc: 27.142089257578032, Val Pixel Acc: 23.122253667091837\n"
     ]
    },
    {
     "name": "stderr",
     "output_type": "stream",
     "text": [
      "Epoch [20/70]: 100%|██████████| 17/17 [02:45<00:00,  9.71s/it, summary=Loss: 0.4180986285209656, Val Loss: 0.41624556183815004]\n"
     ]
    },
    {
     "name": "stdout",
     "output_type": "stream",
     "text": [
      "Epoch [20/70]: Train Pixel Acc: 27.142089257578032, Val Pixel Acc: 23.122253667091837\n"
     ]
    },
    {
     "name": "stderr",
     "output_type": "stream",
     "text": [
      "Epoch [21/70]: 100%|██████████| 17/17 [02:44<00:00,  9.68s/it, summary=Loss: 0.3883826732635498, Val Loss: 0.41332321166992186] \n"
     ]
    },
    {
     "name": "stdout",
     "output_type": "stream",
     "text": [
      "Epoch [21/70]: Train Pixel Acc: 27.142089257578032, Val Pixel Acc: 23.122253667091837\n"
     ]
    },
    {
     "name": "stderr",
     "output_type": "stream",
     "text": [
      "Epoch [22/70]: 100%|██████████| 17/17 [02:44<00:00,  9.70s/it, summary=Loss: 0.35051316022872925, Val Loss: 0.42052493095397947]\n"
     ]
    },
    {
     "name": "stdout",
     "output_type": "stream",
     "text": [
      "Epoch [22/70]: Train Pixel Acc: 27.142089257578032, Val Pixel Acc: 23.122253667091837\n"
     ]
    },
    {
     "name": "stderr",
     "output_type": "stream",
     "text": [
      "Epoch [23/70]: 100%|██████████| 17/17 [02:44<00:00,  9.71s/it, summary=Loss: 0.43299517035484314, Val Loss: 0.41227291226387025]\n"
     ]
    },
    {
     "name": "stdout",
     "output_type": "stream",
     "text": [
      "Epoch [23/70]: Train Pixel Acc: 27.142089257578032, Val Pixel Acc: 23.122253667091837\n"
     ]
    },
    {
     "name": "stderr",
     "output_type": "stream",
     "text": [
      "Epoch [24/70]: 100%|██████████| 17/17 [02:45<00:00,  9.71s/it, summary=Loss: 0.47888296842575073, Val Loss: 0.4202948033809662] \n"
     ]
    },
    {
     "name": "stdout",
     "output_type": "stream",
     "text": [
      "Epoch [24/70]: Train Pixel Acc: 27.142089257578032, Val Pixel Acc: 23.122253667091837\n"
     ]
    },
    {
     "name": "stderr",
     "output_type": "stream",
     "text": [
      "Epoch [25/70]: 100%|██████████| 17/17 [02:44<00:00,  9.67s/it, summary=Loss: 0.4623141586780548, Val Loss: 0.41584287881851195]\n"
     ]
    },
    {
     "name": "stdout",
     "output_type": "stream",
     "text": [
      "Epoch [25/70]: Train Pixel Acc: 27.142089257578032, Val Pixel Acc: 23.122253667091837\n"
     ]
    },
    {
     "name": "stderr",
     "output_type": "stream",
     "text": [
      "Epoch [26/70]: 100%|██████████| 17/17 [02:44<00:00,  9.69s/it, summary=Loss: 0.4053952097892761, Val Loss: 0.4201237797737122]  \n"
     ]
    },
    {
     "name": "stdout",
     "output_type": "stream",
     "text": [
      "Epoch [26/70]: Train Pixel Acc: 27.142089257578032, Val Pixel Acc: 23.122253667091837\n"
     ]
    },
    {
     "name": "stderr",
     "output_type": "stream",
     "text": [
      "Epoch [27/70]: 100%|██████████| 17/17 [02:45<00:00,  9.76s/it, summary=Loss: 0.37936580181121826, Val Loss: 0.40087261199951174]\n"
     ]
    },
    {
     "name": "stdout",
     "output_type": "stream",
     "text": [
      "Epoch [27/70]: Train Pixel Acc: 27.142089257578032, Val Pixel Acc: 23.122253667091837\n"
     ]
    },
    {
     "name": "stderr",
     "output_type": "stream",
     "text": [
      "Epoch [28/70]: 100%|██████████| 17/17 [02:44<00:00,  9.69s/it, summary=Loss: 0.4453032612800598, Val Loss: 0.4193118572235107] \n"
     ]
    },
    {
     "name": "stdout",
     "output_type": "stream",
     "text": [
      "Epoch [28/70]: Train Pixel Acc: 27.142089257578032, Val Pixel Acc: 23.122253667091837\n"
     ]
    },
    {
     "name": "stderr",
     "output_type": "stream",
     "text": [
      "Epoch [42/70]: 100%|██████████| 17/17 [02:44<00:00,  9.70s/it, summary=Loss: 0.4450494647026062, Val Loss: 0.3933979690074921] \n"
     ]
    },
    {
     "name": "stdout",
     "output_type": "stream",
     "text": [
      "Epoch [42/70]: Train Pixel Acc: 27.142089257578032, Val Pixel Acc: 23.122253667091837\n"
     ]
    },
    {
     "name": "stderr",
     "output_type": "stream",
     "text": [
      "Epoch [43/70]:  59%|█████▉    | 10/17 [01:36<01:07,  9.59s/it, summary=Loss: 0.40890181064605713, Val Loss: 0.40001668930053713]"
     ]
    }
   ],
   "source": [
    "vcn32_trainer.train()"
   ]
  },
  {
   "cell_type": "code",
   "execution_count": null,
   "id": "557abd41-8002-4a46-89ef-037af9df5f85",
   "metadata": {},
   "outputs": [],
   "source": []
  }
 ],
 "metadata": {
  "kernelspec": {
   "display_name": "deeplearning:Python",
   "language": "python",
   "name": "conda-env-deeplearning-py"
  },
  "language_info": {
   "codemirror_mode": {
    "name": "ipython",
    "version": 3
   },
   "file_extension": ".py",
   "mimetype": "text/x-python",
   "name": "python",
   "nbconvert_exporter": "python",
   "pygments_lexer": "ipython3",
   "version": "3.9.16"
  }
 },
 "nbformat": 4,
 "nbformat_minor": 5
}
