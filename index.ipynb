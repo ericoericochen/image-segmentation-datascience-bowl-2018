{
 "cells": [
  {
   "cell_type": "code",
   "execution_count": 1,
   "id": "39381361-4fe1-42d4-94f4-46440cdcbb63",
   "metadata": {
    "tags": []
   },
   "outputs": [],
   "source": [
    "%load_ext autoreload\n",
    "%autoreload 2"
   ]
  },
  {
   "cell_type": "code",
   "execution_count": 9,
   "id": "552ccbd7-38f5-4482-8f10-8815695626d9",
   "metadata": {
    "tags": []
   },
   "outputs": [],
   "source": [
    "import torch\n",
    "from torch.utils.data import DataLoader, random_split\n",
    "from torchvision.transforms import ToTensor, Normalize, Compose, Resize\n",
    "from dataset import SegmentationDataset\n",
    "from models import VCN32, VCN16, VCN8\n",
    "from train import VCNTrainer\n",
    "import matplotlib.pyplot as plt"
   ]
  },
  {
   "cell_type": "markdown",
   "id": "53189a38-796c-4f6b-8401-e6962d828ad4",
   "metadata": {},
   "source": [
    "# Semantic Segmentation with Fully Convolutional Networks\n",
    "Semantic Segmentation is a task where you look at every pixel of an image and classify it in one of C categories. It's like coloring images in a coloring book. Green for grass. Blue for sky. Yellow for sun. So on and so forth. Training a neural net for semantic segmentation is a much more fancy way of saying \"I'm going to teach an AI to be an expert at coloring within the lines.\"\n",
    "\n",
    "To do this task we'll use a fully convolutional network, a neural net that consists only of convolutional layers with ReLU activations and pooling layers mixed in."
   ]
  },
  {
   "cell_type": "markdown",
   "id": "30fc2bc1-2856-4780-a738-c359435aaea6",
   "metadata": {},
   "source": [
    "## Config"
   ]
  },
  {
   "cell_type": "code",
   "execution_count": 3,
   "id": "9cf9d157-aa50-40fa-8308-4042199d77f9",
   "metadata": {},
   "outputs": [],
   "source": [
    "BATCH_SIZE = 32\n",
    "NUM_CLASSES = 2\n",
    "DEVICE = torch.device(\"cuda\" if torch.cuda.is_available() else \"cpu\")\n",
    "EPOCHS = 50\n",
    "WEIGHT_DECAY = 5e-4\n",
    "LR = 3e-4"
   ]
  },
  {
   "cell_type": "markdown",
   "id": "2de21cc2-d511-40ee-a55d-9139209b9299",
   "metadata": {},
   "source": [
    "## Dataset"
   ]
  },
  {
   "cell_type": "code",
   "execution_count": 4,
   "id": "526599f0-ae93-4e5f-b60c-03676ec96022",
   "metadata": {
    "tags": []
   },
   "outputs": [
    {
     "data": {
      "text/plain": [
       "<torch._C.Generator at 0x7f67b9dbeeb0>"
      ]
     },
     "execution_count": 4,
     "metadata": {},
     "output_type": "execute_result"
    }
   ],
   "source": [
    "torch.manual_seed(5)"
   ]
  },
  {
   "cell_type": "code",
   "execution_count": 5,
   "id": "06fece8c-f5b9-4572-8d80-21978110f0ee",
   "metadata": {
    "tags": []
   },
   "outputs": [],
   "source": [
    "transform = Compose([\n",
    "    ToTensor(),\n",
    "    Normalize(mean=[0.485, 0.456, 0.406], std=[0.229, 0.224, 0.225]),\n",
    "    Resize((224, 224), antialias=True)\n",
    "])\n",
    "\n",
    "target_transform = Compose([\n",
    "    Resize((224, 224), antialias=True),\n",
    "    lambda x: x[0] # first dimension is unnecessary\n",
    "])"
   ]
  },
  {
   "cell_type": "code",
   "execution_count": 6,
   "id": "a2f68e9d-4846-47da-803c-3ca5ec241679",
   "metadata": {
    "tags": []
   },
   "outputs": [],
   "source": [
    "train_val_set = SegmentationDataset(root=\"data/stage1_train\", train=True, transform=transform, target_transform=target_transform)\n",
    "train_set, val_set = random_split(train_val_set, lengths=[0.8, 0.2]) # 80/20 split\n",
    "test_set = SegmentationDataset(root=\"data/stage1_test\", train=False)"
   ]
  },
  {
   "cell_type": "code",
   "execution_count": 7,
   "id": "0de73059-9c19-4dd7-bfd7-dd165966e6d3",
   "metadata": {
    "tags": []
   },
   "outputs": [
    {
     "name": "stdout",
     "output_type": "stream",
     "text": [
      "train_set size: 536, val_set size: 134, test_set size: 65\n"
     ]
    }
   ],
   "source": [
    "print(f\"train_set size: {len(train_set)}, val_set size: {len(val_set)}, test_set size: {len(test_set)}\")"
   ]
  },
  {
   "cell_type": "code",
   "execution_count": 8,
   "id": "cfcd1eb5-b954-48f6-bbdd-08a5b6a97ee5",
   "metadata": {
    "tags": []
   },
   "outputs": [],
   "source": [
    "train_loader = DataLoader(train_set, batch_size=BATCH_SIZE, shuffle=True)\n",
    "val_loader = DataLoader(val_set, batch_size=BATCH_SIZE, shuffle=True)\n",
    "test_loader = DataLoader(test_set, batch_size=BATCH_SIZE, shuffle=True)"
   ]
  },
  {
   "cell_type": "code",
   "execution_count": 9,
   "id": "a6df4613-07d8-4435-b39a-e8cee7adc562",
   "metadata": {
    "tags": []
   },
   "outputs": [
    {
     "name": "stdout",
     "output_type": "stream",
     "text": [
      "torch.Size([32, 3, 224, 224]) torch.Size([32, 224, 224])\n"
     ]
    }
   ],
   "source": [
    "for (X, Y) in train_loader:\n",
    "    print(X.shape, Y.shape)\n",
    "    break"
   ]
  },
  {
   "cell_type": "markdown",
   "id": "6c6015ff-dc74-43fd-b778-2ad1360eb386",
   "metadata": {},
   "source": [
    "## Models\n",
    "VCN32, VCN16, and VCN8"
   ]
  },
  {
   "cell_type": "code",
   "execution_count": 10,
   "id": "f558a5dd-7d60-4381-82ef-51a93ddf5ce9",
   "metadata": {
    "tags": []
   },
   "outputs": [],
   "source": [
    "vcn32 = VCN32(pretrained=True, num_classes=NUM_CLASSES)\n",
    "vcn16 = VCN16(pretrained=True, num_classes=NUM_CLASSES)\n",
    "vcn8 = VCN8(pretrained=True, num_classes=NUM_CLASSES)"
   ]
  },
  {
   "cell_type": "markdown",
   "id": "7868ce0c-755f-44d4-837f-eb2f9a159972",
   "metadata": {},
   "source": [
    "## Training"
   ]
  },
  {
   "cell_type": "code",
   "execution_count": 11,
   "id": "da55a4d8-e908-4f7c-a0ec-50eca063b834",
   "metadata": {
    "tags": []
   },
   "outputs": [],
   "source": [
    "torch.cuda.empty_cache()"
   ]
  },
  {
   "cell_type": "code",
   "execution_count": 12,
   "id": "ee9529e4-6a75-42b0-af07-eea469103d9a",
   "metadata": {
    "tags": []
   },
   "outputs": [],
   "source": [
    "cross_entropy = torch.nn.CrossEntropyLoss()"
   ]
  },
  {
   "cell_type": "code",
   "execution_count": 13,
   "id": "8e46226e-702f-4111-9336-b317b21ee59a",
   "metadata": {
    "tags": []
   },
   "outputs": [],
   "source": [
    "vcn32_optimizer = torch.optim.Adam(vcn32.parameters(), lr=LR, weight_decay=WEIGHT_DECAY)\n",
    "vcn16_optimizer = torch.optim.Adam(vcn16.parameters(), lr=LR, weight_decay=WEIGHT_DECAY)\n",
    "vcn8_optimizer = torch.optim.Adam(vcn8.parameters(), lr=LR, weight_decay=WEIGHT_DECAY)"
   ]
  },
  {
   "cell_type": "code",
   "execution_count": 14,
   "id": "80ca56a6-5c06-4907-83fd-e43c3c6d455a",
   "metadata": {
    "tags": []
   },
   "outputs": [],
   "source": [
    "vcn32_trainer = VCNTrainer(\n",
    "    model=vcn32,\n",
    "    criterion=cross_entropy,\n",
    "    train_loader=train_loader,\n",
    "    val_loader=val_loader,\n",
    "    optimizer=vcn32_optimizer,\n",
    "    epochs=EPOCHS,\n",
    "    device=DEVICE,\n",
    "    checkpoint=\"vcn32.pth\"\n",
    ")"
   ]
  },
  {
   "cell_type": "code",
   "execution_count": 15,
   "id": "990b8213-3603-4192-b8b7-d0877c75ffbb",
   "metadata": {
    "tags": []
   },
   "outputs": [
    {
     "name": "stderr",
     "output_type": "stream",
     "text": [
      "                                                                                                                               \r"
     ]
    },
    {
     "name": "stdout",
     "output_type": "stream",
     "text": [
      "Epoch [1/50]: Loss: 0.5995777757728801, Val Loss: 0.42112712264060975 Train Pixel Acc: 0.8392379718911819, Val Pixel Acc: 0.8408671625133263\n"
     ]
    },
    {
     "name": "stderr",
     "output_type": "stream",
     "text": [
      "                                                                                                                               \r"
     ]
    },
    {
     "name": "stdout",
     "output_type": "stream",
     "text": [
      "Epoch [2/50]: Loss: 0.3740628116271075, Val Loss: 0.34203568696975706 Train Pixel Acc: 0.8606316586511004, Val Pixel Acc: 0.8625448867746726\n"
     ]
    },
    {
     "name": "stderr",
     "output_type": "stream",
     "text": [
      "                                                                                                                              \r"
     ]
    },
    {
     "name": "stdout",
     "output_type": "stream",
     "text": [
      "Epoch [3/50]: Loss: 0.33103476289440603, Val Loss: 0.3028538584709167 Train Pixel Acc: 0.8608711886398682, Val Pixel Acc: 0.8627214295233019\n"
     ]
    },
    {
     "name": "stderr",
     "output_type": "stream",
     "text": [
      "                                                                                                                               \r"
     ]
    },
    {
     "name": "stdout",
     "output_type": "stream",
     "text": [
      "Epoch [4/50]: Loss: 0.30753371382460876, Val Loss: 0.28608196675777436 Train Pixel Acc: 0.8643570899091912, Val Pixel Acc: 0.8663126689575084\n"
     ]
    },
    {
     "name": "stderr",
     "output_type": "stream",
     "text": [
      "                                                                                                                               \r"
     ]
    },
    {
     "name": "stdout",
     "output_type": "stream",
     "text": [
      "Epoch [5/50]: Loss: 0.29580461452989015, Val Loss: 0.2821623235940933 Train Pixel Acc: 0.8670512259533011, Val Pixel Acc: 0.8696070429104478\n"
     ]
    },
    {
     "name": "stderr",
     "output_type": "stream",
     "text": [
      "                                                                                                                               \r"
     ]
    },
    {
     "name": "stdout",
     "output_type": "stream",
     "text": [
      "Epoch [6/50]: Loss: 0.28561242012416616, Val Loss: 0.30585954785346986 Train Pixel Acc: 0.870118488889259, Val Pixel Acc: 0.872091134728145\n"
     ]
    },
    {
     "name": "stderr",
     "output_type": "stream",
     "text": [
      "                                                                                                                               \r"
     ]
    },
    {
     "name": "stdout",
     "output_type": "stream",
     "text": [
      "Epoch [7/50]: Loss: 0.27711673869806175, Val Loss: 0.3019730031490326 Train Pixel Acc: 0.876183074384138, Val Pixel Acc: 0.8776552802790892\n"
     ]
    },
    {
     "name": "stderr",
     "output_type": "stream",
     "text": [
      "                                                                                                                               \r"
     ]
    },
    {
     "name": "stdout",
     "output_type": "stream",
     "text": [
      "Epoch [8/50]: Loss: 0.27567315452239094, Val Loss: 0.27169098854064944 Train Pixel Acc: 0.8769540545637565, Val Pixel Acc: 0.8791869038893543\n"
     ]
    },
    {
     "name": "stderr",
     "output_type": "stream",
     "text": [
      "                                                                                                                              \r"
     ]
    },
    {
     "name": "stdout",
     "output_type": "stream",
     "text": [
      "Epoch [9/50]: Loss: 0.2711062554050894, Val Loss: 0.2731661289930344 Train Pixel Acc: 0.8772582821899749, Val Pixel Acc: 0.8788547893504417\n"
     ]
    },
    {
     "name": "stderr",
     "output_type": "stream",
     "text": [
      "                                                                                                                                \r"
     ]
    },
    {
     "name": "stdout",
     "output_type": "stream",
     "text": [
      "Epoch [10/50]: Loss: 0.26967381817453046, Val Loss: 0.27016519010066986 Train Pixel Acc: 0.8781650530431389, Val Pixel Acc: 0.8793000875723423\n"
     ]
    },
    {
     "name": "stderr",
     "output_type": "stream",
     "text": [
      "                                                                                                                                \r"
     ]
    },
    {
     "name": "stdout",
     "output_type": "stream",
     "text": [
      "Epoch [11/50]: Loss: 0.26575573928215923, Val Loss: 0.2778165638446808 Train Pixel Acc: 0.879238847912066, Val Pixel Acc: 0.8800492415949589\n"
     ]
    },
    {
     "name": "stderr",
     "output_type": "stream",
     "text": [
      "                                                                                                                                \r"
     ]
    },
    {
     "name": "stdout",
     "output_type": "stream",
     "text": [
      "Epoch [12/50]: Loss: 0.2706006397219265, Val Loss: 0.2663062155246735 Train Pixel Acc: 0.8792520477174078, Val Pixel Acc: 0.879799374857219\n"
     ]
    },
    {
     "name": "stderr",
     "output_type": "stream",
     "text": [
      "                                                                                                                                \r"
     ]
    },
    {
     "name": "stdout",
     "output_type": "stream",
     "text": [
      "Epoch [13/50]: Loss: 0.2646300284301533, Val Loss: 0.2813663691282272 Train Pixel Acc: 0.879962234427353, Val Pixel Acc: 0.8806814936795614\n"
     ]
    },
    {
     "name": "stderr",
     "output_type": "stream",
     "text": [
      "                                                                                                                                \r"
     ]
    },
    {
     "name": "stdout",
     "output_type": "stream",
     "text": [
      "Epoch [14/50]: Loss: 0.2674533304046182, Val Loss: 0.25536806881427765 Train Pixel Acc: 0.879238847912066, Val Pixel Acc: 0.8796881246668443\n"
     ]
    },
    {
     "name": "stderr",
     "output_type": "stream",
     "text": [
      "                                                                                                                                \r"
     ]
    },
    {
     "name": "stdout",
     "output_type": "stream",
     "text": [
      "Epoch [15/50]: Loss: 0.26577599872561064, Val Loss: 0.2859681874513626 Train Pixel Acc: 0.8808748801234579, Val Pixel Acc: 0.881652255701721\n"
     ]
    },
    {
     "name": "stderr",
     "output_type": "stream",
     "text": [
      "                                                                                                                                \r"
     ]
    },
    {
     "name": "stdout",
     "output_type": "stream",
     "text": [
      "Epoch [16/50]: Loss: 0.2631109050091575, Val Loss: 0.26002668738365176 Train Pixel Acc: 0.879592007774425, Val Pixel Acc: 0.8804412944048888\n"
     ]
    },
    {
     "name": "stderr",
     "output_type": "stream",
     "text": [
      "                                                                                                                               \r"
     ]
    },
    {
     "name": "stdout",
     "output_type": "stream",
     "text": [
      "Epoch [17/50]: Loss: 0.2645109094241086, Val Loss: 0.2680013358592987 Train Pixel Acc: 0.8789589004911667, Val Pixel Acc: 0.8798261462934054\n"
     ]
    },
    {
     "name": "stderr",
     "output_type": "stream",
     "text": [
      "                                                                                                                                \r"
     ]
    },
    {
     "name": "stdout",
     "output_type": "stream",
     "text": [
      "Epoch [18/50]: Loss: 0.26662852045367746, Val Loss: 0.27073569893836974 Train Pixel Acc: 0.8739781491537847, Val Pixel Acc: 0.875263252455833\n"
     ]
    },
    {
     "name": "stderr",
     "output_type": "stream",
     "text": [
      "                                                                                                                                \r"
     ]
    },
    {
     "name": "stdout",
     "output_type": "stream",
     "text": [
      "Epoch [19/50]: Loss: 0.2683872598059037, Val Loss: 0.2866215169429779 Train Pixel Acc: 0.8777999575821467, Val Pixel Acc: 0.8788663903061225\n"
     ]
    },
    {
     "name": "stderr",
     "output_type": "stream",
     "text": [
      "                                                                                                                                \r"
     ]
    },
    {
     "name": "stdout",
     "output_type": "stream",
     "text": [
      "Epoch [20/50]: Loss: 0.26673781871795654, Val Loss: 0.27423614263534546 Train Pixel Acc: 0.8778680388316707, Val Pixel Acc: 0.8782290813946847\n"
     ]
    },
    {
     "name": "stderr",
     "output_type": "stream",
     "text": [
      "                                                                                                                                \r"
     ]
    },
    {
     "name": "stdout",
     "output_type": "stream",
     "text": [
      "Epoch [21/50]: Loss: 0.2638251220478731, Val Loss: 0.27217669486999513 Train Pixel Acc: 0.8807657493384481, Val Pixel Acc: 0.8811568354020712\n"
     ]
    },
    {
     "name": "stderr",
     "output_type": "stream",
     "text": [
      "                                                                                                                                \r"
     ]
    },
    {
     "name": "stdout",
     "output_type": "stream",
     "text": [
      "Epoch [22/50]: Loss: 0.26541315545054045, Val Loss: 0.24938730597496034 Train Pixel Acc: 0.8774136680675069, Val Pixel Acc: 0.8789197844482942\n"
     ]
    },
    {
     "name": "stderr",
     "output_type": "stream",
     "text": [
      "                                                                                                                                \r"
     ]
    },
    {
     "name": "stdout",
     "output_type": "stream",
     "text": [
      "Epoch [23/50]: Loss: 0.26532600557102876, Val Loss: 0.26452497243881223 Train Pixel Acc: 0.8808494100765306, Val Pixel Acc: 0.8809605115367042\n"
     ]
    },
    {
     "name": "stderr",
     "output_type": "stream",
     "text": [
      "                                                                                                                               \r"
     ]
    },
    {
     "name": "stdout",
     "output_type": "stream",
     "text": [
      "Epoch [24/50]: Loss: 0.2631630555671804, Val Loss: 0.26022244691848756 Train Pixel Acc: 0.8818932729924992, Val Pixel Acc: 0.8824100360759976\n"
     ]
    },
    {
     "name": "stderr",
     "output_type": "stream",
     "text": [
      "                                                                                                                                \r"
     ]
    },
    {
     "name": "stdout",
     "output_type": "stream",
     "text": [
      "Epoch [25/50]: Loss: 0.2625300857950659, Val Loss: 0.2660740911960602 Train Pixel Acc: 0.8817951854249162, Val Pixel Acc: 0.881765290654508\n"
     ]
    },
    {
     "name": "stderr",
     "output_type": "stream",
     "text": [
      "                                                                                                                               \r"
     ]
    },
    {
     "name": "stdout",
     "output_type": "stream",
     "text": [
      "Epoch [26/50]: Loss: 0.2619923835291582, Val Loss: 0.277007395029068 Train Pixel Acc: 0.881205767638212, Val Pixel Acc: 0.8812544024139507\n"
     ]
    },
    {
     "name": "stderr",
     "output_type": "stream",
     "text": [
      "                                                                                                                                \r"
     ]
    },
    {
     "name": "stdout",
     "output_type": "stream",
     "text": [
      "Epoch [27/50]: Loss: 0.26485076546669006, Val Loss: 0.2747116178274155 Train Pixel Acc: 0.8800342942097548, Val Pixel Acc: 0.8812454786018885\n"
     ]
    },
    {
     "name": "stderr",
     "output_type": "stream",
     "text": [
      "                                                                                                                                \r"
     ]
    },
    {
     "name": "stdout",
     "output_type": "stream",
     "text": [
      "Epoch [28/50]: Loss: 0.26285044673611135, Val Loss: 0.25354662239551545 Train Pixel Acc: 0.8794385553895065, Val Pixel Acc: 0.8797264970587115\n"
     ]
    },
    {
     "name": "stderr",
     "output_type": "stream",
     "text": [
      "                                                                                                                                \r"
     ]
    },
    {
     "name": "stdout",
     "output_type": "stream",
     "text": [
      "Epoch [29/50]: Loss: 0.26470067571191225, Val Loss: 0.2563083529472351 Train Pixel Acc: 0.8804214761056008, Val Pixel Acc: 0.8808141610188852\n"
     ]
    },
    {
     "name": "stderr",
     "output_type": "stream",
     "text": [
      "                                                                                                                               \r"
     ]
    },
    {
     "name": "stdout",
     "output_type": "stream",
     "text": [
      "Epoch [30/50]: Loss: 0.26250526396667256, Val Loss: 0.2720133066177368 Train Pixel Acc: 0.8801871516738692, Val Pixel Acc: 0.880296282458879\n"
     ]
    },
    {
     "name": "stderr",
     "output_type": "stream",
     "text": [
      "                                                                                                                               \r"
     ]
    },
    {
     "name": "stdout",
     "output_type": "stream",
     "text": [
      "Epoch [31/50]: Loss: 0.2607560175306657, Val Loss: 0.28288834989070893 Train Pixel Acc: 0.881825749481229, Val Pixel Acc: 0.8816184939460859\n"
     ]
    },
    {
     "name": "stderr",
     "output_type": "stream",
     "text": [
      "                                                                                                                                \r"
     ]
    },
    {
     "name": "stdout",
     "output_type": "stream",
     "text": [
      "Epoch [32/50]: Loss: 0.26166857077794914, Val Loss: 0.24712921679019928 Train Pixel Acc: 0.8805306812557112, Val Pixel Acc: 0.8804180924935273\n"
     ]
    },
    {
     "name": "stderr",
     "output_type": "stream",
     "text": [
      "                                                                                                                               \r"
     ]
    },
    {
     "name": "stdout",
     "output_type": "stream",
     "text": [
      "Epoch [33/50]: Loss: 0.2648695567074944, Val Loss: 0.2935052514076233 Train Pixel Acc: 0.87863195432674, Val Pixel Acc: 0.8792858094730429\n"
     ]
    },
    {
     "name": "stderr",
     "output_type": "stream",
     "text": [
      "                                                                                                                                \r"
     ]
    },
    {
     "name": "stdout",
     "output_type": "stream",
     "text": [
      "Epoch [34/50]: Loss: 0.26370760623146505, Val Loss: 0.2815384387969971 Train Pixel Acc: 0.8816344824426973, Val Pixel Acc: 0.8819162518085593\n"
     ]
    },
    {
     "name": "stderr",
     "output_type": "stream",
     "text": [
      "                                                                                                                               \r"
     ]
    },
    {
     "name": "stdout",
     "output_type": "stream",
     "text": [
      "Epoch [35/50]: Loss: 0.2613169813857359, Val Loss: 0.2792510181665421 Train Pixel Acc: 0.8814042852740444, Val Pixel Acc: 0.8812444374904813\n"
     ]
    },
    {
     "name": "stderr",
     "output_type": "stream",
     "text": [
      "                                                                                                                                \r"
     ]
    },
    {
     "name": "stdout",
     "output_type": "stream",
     "text": [
      "Epoch [36/50]: Loss: 0.2593217439511243, Val Loss: 0.2710945338010788 Train Pixel Acc: 0.8813743161385357, Val Pixel Acc: 0.8812981290930552\n"
     ]
    },
    {
     "name": "stderr",
     "output_type": "stream",
     "text": [
      "                                                                                                                                \r"
     ]
    },
    {
     "name": "stdout",
     "output_type": "stream",
     "text": [
      "Epoch [37/50]: Loss: 0.257431042544982, Val Loss: 0.26802889406681063 Train Pixel Acc: 0.8825394685334488, Val Pixel Acc: 0.8825587662770332\n"
     ]
    },
    {
     "name": "stderr",
     "output_type": "stream",
     "text": [
      "                                                                                                                                \r"
     ]
    },
    {
     "name": "stdout",
     "output_type": "stream",
     "text": [
      "Epoch [38/50]: Loss: 0.25903430581092834, Val Loss: 0.2517589271068573 Train Pixel Acc: 0.8825468306784001, Val Pixel Acc: 0.8824635789483704\n"
     ]
    },
    {
     "name": "stderr",
     "output_type": "stream",
     "text": [
      "                                                                                                                                \r"
     ]
    },
    {
     "name": "stdout",
     "output_type": "stream",
     "text": [
      "Epoch [39/50]: Loss: 0.25806554538362164, Val Loss: 0.30052870512008667 Train Pixel Acc: 0.8701908089495126, Val Pixel Acc: 0.8719099813432836\n"
     ]
    },
    {
     "name": "stderr",
     "output_type": "stream",
     "text": [
      "                                                                                                                                \r"
     ]
    },
    {
     "name": "stdout",
     "output_type": "stream",
     "text": [
      "Epoch [40/50]: Loss: 0.26294273576315713, Val Loss: 0.27276513278484343 Train Pixel Acc: 0.8799214079871688, Val Pixel Acc: 0.8810256553647579\n"
     ]
    },
    {
     "name": "stderr",
     "output_type": "stream",
     "text": [
      "                                                                                                                                \r"
     ]
    },
    {
     "name": "stdout",
     "output_type": "stream",
     "text": [
      "Epoch [41/50]: Loss: 0.25880877761279836, Val Loss: 0.2539644867181778 Train Pixel Acc: 0.8826363662594235, Val Pixel Acc: 0.882599667082318\n"
     ]
    },
    {
     "name": "stderr",
     "output_type": "stream",
     "text": [
      "                                                                                                                                \r"
     ]
    },
    {
     "name": "stdout",
     "output_type": "stream",
     "text": [
      "Epoch [42/50]: Loss: 0.2586282053414513, Val Loss: 0.2692383795976639 Train Pixel Acc: 0.8808219321718893, Val Pixel Acc: 0.8816663850708194\n"
     ]
    },
    {
     "name": "stderr",
     "output_type": "stream",
     "text": [
      "                                                                                                                                \r"
     ]
    },
    {
     "name": "stdout",
     "output_type": "stream",
     "text": [
      "Epoch [43/50]: Loss: 0.2601051733774297, Val Loss: 0.2537459284067154 Train Pixel Acc: 0.883258988063509, Val Pixel Acc: 0.8831487789845416\n"
     ]
    },
    {
     "name": "stderr",
     "output_type": "stream",
     "text": [
      "                                                                                                                                \r"
     ]
    },
    {
     "name": "stdout",
     "output_type": "stream",
     "text": [
      "Epoch [44/50]: Loss: 0.256457937114379, Val Loss: 0.24946603178977966 Train Pixel Acc: 0.8830497990357523, Val Pixel Acc: 0.8826225715332775\n"
     ]
    },
    {
     "name": "stderr",
     "output_type": "stream",
     "text": [
      "                                                                                                                                \r"
     ]
    },
    {
     "name": "stdout",
     "output_type": "stream",
     "text": [
      "Epoch [45/50]: Loss: 0.2554517449701534, Val Loss: 0.253945979475975 Train Pixel Acc: 0.8836112555446619, Val Pixel Acc: 0.8832472383776272\n"
     ]
    },
    {
     "name": "stderr",
     "output_type": "stream",
     "text": [
      "                                                                                                                                \r"
     ]
    },
    {
     "name": "stdout",
     "output_type": "stream",
     "text": [
      "Epoch [46/50]: Loss: 0.2564266008489272, Val Loss: 0.2652766346931458 Train Pixel Acc: 0.8831690062918824, Val Pixel Acc: 0.882741406963905\n"
     ]
    },
    {
     "name": "stderr",
     "output_type": "stream",
     "text": [
      "                                                                                                                                \r"
     ]
    },
    {
     "name": "stdout",
     "output_type": "stream",
     "text": [
      "Epoch [47/50]: Loss: 0.2621481471201953, Val Loss: 0.26597820222377777 Train Pixel Acc: 0.882880283789122, Val Pixel Acc: 0.8827403658524977\n"
     ]
    },
    {
     "name": "stderr",
     "output_type": "stream",
     "text": [
      "                                                                                                                                \r"
     ]
    },
    {
     "name": "stdout",
     "output_type": "stream",
     "text": [
      "Epoch [48/50]: Loss: 0.2605157380594927, Val Loss: 0.2863243162631989 Train Pixel Acc: 0.8802662017757196, Val Pixel Acc: 0.880300000713905\n"
     ]
    },
    {
     "name": "stderr",
     "output_type": "stream",
     "text": [
      "                                                                                                                                \r"
     ]
    },
    {
     "name": "stdout",
     "output_type": "stream",
     "text": [
      "Epoch [49/50]: Loss: 0.25822900410960703, Val Loss: 0.2509140491485596 Train Pixel Acc: 0.882065576930399, Val Pixel Acc: 0.8822595211125495\n"
     ]
    },
    {
     "name": "stderr",
     "output_type": "stream",
     "text": [
      "                                                                                                                                \r"
     ]
    },
    {
     "name": "stdout",
     "output_type": "stream",
     "text": [
      "Epoch [50/50]: Loss: 0.2575162333600661, Val Loss: 0.27033878266811373 Train Pixel Acc: 0.8809535955823561, Val Pixel Acc: 0.880625571123972\n"
     ]
    }
   ],
   "source": [
    "vcn32_trainer.train()"
   ]
  },
  {
   "cell_type": "code",
   "execution_count": null,
   "id": "557abd41-8002-4a46-89ef-037af9df5f85",
   "metadata": {},
   "outputs": [],
   "source": []
  },
  {
   "cell_type": "code",
   "execution_count": null,
   "id": "fa780ea6-6b01-4d71-a6b7-28c68d24aad1",
   "metadata": {},
   "outputs": [],
   "source": []
  },
  {
   "cell_type": "code",
   "execution_count": 5,
   "id": "3bdd2dcc-ba56-4136-87b6-72647719266d",
   "metadata": {
    "tags": []
   },
   "outputs": [],
   "source": [
    "checkpoint = torch.load(\"vcn32.pth\", map_location=DEVICE)"
   ]
  },
  {
   "cell_type": "code",
   "execution_count": 24,
   "id": "65ea42c6-d952-4004-bacb-ec66a08d9224",
   "metadata": {
    "tags": []
   },
   "outputs": [],
   "source": [
    "iterations = checkpoint[\"iterations\"]\n",
    "train_losses = checkpoint[\"train_losses\"]\n",
    "val_losses = checkpoint[\"val_losses\"]\n",
    "epochs = checkpoint[\"epochs\"]\n",
    "train_pix_acc = checkpoint[\"train_pixel_accuracies\"]\n",
    "val_pix_acc = checkpoint[\"val_pixel_accuracies\"]"
   ]
  },
  {
   "cell_type": "code",
   "execution_count": 25,
   "id": "cec6e410-9c32-4fcf-bf0d-17d7dab847c3",
   "metadata": {
    "tags": []
   },
   "outputs": [
    {
     "data": {
      "text/plain": [
       "<matplotlib.legend.Legend at 0x7f4400a3ad90>"
      ]
     },
     "execution_count": 25,
     "metadata": {},
     "output_type": "execute_result"
    },
    {
     "data": {
      "image/png": "[encoded data removed]",
      "text/plain": [
       "<Figure size 1500x500 with 1 Axes>"
      ]
     },
     "metadata": {},
     "output_type": "display_data"
    }
   ],
   "source": [
    "plt.figure(figsize=(15, 5))\n",
    "plt.title(\"VCN32 Loss\")\n",
    "plt.plot(range(iterations), train_losses, label=\"train loss\")\n",
    "plt.plot(range(iterations), val_losses, label=\"val loss\")\n",
    "\n",
    "plt.legend()"
   ]
  },
  {
   "cell_type": "code",
   "execution_count": 27,
   "id": "64f8a516-1949-4f5a-9a1a-1de12f9e50d8",
   "metadata": {
    "tags": []
   },
   "outputs": [
    {
     "data": {
      "text/plain": [
       "[<matplotlib.lines.Line2D at 0x7f43f72b26a0>]"
      ]
     },
     "execution_count": 27,
     "metadata": {},
     "output_type": "execute_result"
    },
    {
     "data": {
      "image/png": "[encoded data removed]",
      "text/plain": [
       "<Figure size 640x480 with 1 Axes>"
      ]
     },
     "metadata": {},
     "output_type": "display_data"
    }
   ],
   "source": [
    "plt.title(\"VCN32 Pixel Accuracy\")\n",
    "plt.plot(range(epochs), train_pix_acc)\n",
    "plt.plot(range(epochs), val_pix_acc)"
   ]
  },
  {
   "cell_type": "code",
   "execution_count": null,
   "id": "e53a0e77-745c-42d5-b5e5-929b248afa5f",
   "metadata": {},
   "outputs": [],
   "source": []
  }
 ],
 "metadata": {
  "kernelspec": {
   "display_name": "deeplearning:Python",
   "language": "python",
   "name": "conda-env-deeplearning-py"
  },
  "language_info": {
   "codemirror_mode": {
    "name": "ipython",
    "version": 3
   },
   "file_extension": ".py",
   "mimetype": "text/x-python",
   "name": "python",
   "nbconvert_exporter": "python",
   "pygments_lexer": "ipython3",
   "version": "3.9.16"
  }
 },
 "nbformat": 4,
 "nbformat_minor": 5
}
